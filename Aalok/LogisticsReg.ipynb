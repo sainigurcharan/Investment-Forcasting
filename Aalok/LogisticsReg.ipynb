{
 "cells": [
  {
   "cell_type": "code",
   "execution_count": 1,
   "metadata": {},
   "outputs": [],
   "source": [
    "import pandas as pd\n",
    "\n",
    "import numpy as np\n",
    "import matplotlib.pyplot as plt\n",
    "\n",
    "import datetime\n",
    "\n",
    "plt.style.use('fivethirtyeight')"
   ]
  },
  {
   "cell_type": "code",
   "execution_count": 2,
   "metadata": {},
   "outputs": [
    {
     "data": {
      "text/html": [
       "<div>\n",
       "<style scoped>\n",
       "    .dataframe tbody tr th:only-of-type {\n",
       "        vertical-align: middle;\n",
       "    }\n",
       "\n",
       "    .dataframe tbody tr th {\n",
       "        vertical-align: top;\n",
       "    }\n",
       "\n",
       "    .dataframe thead th {\n",
       "        text-align: right;\n",
       "    }\n",
       "</style>\n",
       "<table border=\"1\" class=\"dataframe\">\n",
       "  <thead>\n",
       "    <tr style=\"text-align: right;\">\n",
       "      <th></th>\n",
       "      <th>Date</th>\n",
       "      <th>XLF</th>\n",
       "      <th>XLK</th>\n",
       "      <th>XLI</th>\n",
       "      <th>HY</th>\n",
       "      <th>XLY</th>\n",
       "      <th>XLU</th>\n",
       "      <th>XLP</th>\n",
       "      <th>SPY</th>\n",
       "      <th>VBMFX</th>\n",
       "      <th>Target_FR12Mts</th>\n",
       "      <th>Class</th>\n",
       "    </tr>\n",
       "  </thead>\n",
       "  <tbody>\n",
       "    <tr>\n",
       "      <td>0</td>\n",
       "      <td>2/1/2008</td>\n",
       "      <td>20.982941</td>\n",
       "      <td>22.15</td>\n",
       "      <td>36.250000</td>\n",
       "      <td>4.77</td>\n",
       "      <td>31.320000</td>\n",
       "      <td>37.610001</td>\n",
       "      <td>27.129999</td>\n",
       "      <td>133.820007</td>\n",
       "      <td>10.27</td>\n",
       "      <td>-0.45</td>\n",
       "      <td>1</td>\n",
       "    </tr>\n",
       "    <tr>\n",
       "      <td>1</td>\n",
       "      <td>1/1/2008</td>\n",
       "      <td>23.671812</td>\n",
       "      <td>23.25</td>\n",
       "      <td>37.000000</td>\n",
       "      <td>5.03</td>\n",
       "      <td>32.580002</td>\n",
       "      <td>39.220001</td>\n",
       "      <td>27.200001</td>\n",
       "      <td>137.369995</td>\n",
       "      <td>10.30</td>\n",
       "      <td>-0.40</td>\n",
       "      <td>1</td>\n",
       "    </tr>\n",
       "    <tr>\n",
       "      <td>2</td>\n",
       "      <td>3/1/2008</td>\n",
       "      <td>20.203087</td>\n",
       "      <td>22.40</td>\n",
       "      <td>37.400002</td>\n",
       "      <td>4.58</td>\n",
       "      <td>30.719999</td>\n",
       "      <td>37.939999</td>\n",
       "      <td>27.860001</td>\n",
       "      <td>131.970001</td>\n",
       "      <td>10.26</td>\n",
       "      <td>-0.40</td>\n",
       "      <td>1</td>\n",
       "    </tr>\n",
       "    <tr>\n",
       "      <td>3</td>\n",
       "      <td>11/1/2007</td>\n",
       "      <td>25.182777</td>\n",
       "      <td>26.26</td>\n",
       "      <td>39.400002</td>\n",
       "      <td>5.34</td>\n",
       "      <td>34.650002</td>\n",
       "      <td>42.730000</td>\n",
       "      <td>29.190001</td>\n",
       "      <td>148.660004</td>\n",
       "      <td>10.17</td>\n",
       "      <td>-0.39</td>\n",
       "      <td>1</td>\n",
       "    </tr>\n",
       "    <tr>\n",
       "      <td>4</td>\n",
       "      <td>12/1/2007</td>\n",
       "      <td>23.501219</td>\n",
       "      <td>26.66</td>\n",
       "      <td>39.160000</td>\n",
       "      <td>5.15</td>\n",
       "      <td>32.700001</td>\n",
       "      <td>42.330002</td>\n",
       "      <td>28.799999</td>\n",
       "      <td>146.210007</td>\n",
       "      <td>10.16</td>\n",
       "      <td>-0.38</td>\n",
       "      <td>1</td>\n",
       "    </tr>\n",
       "    <tr>\n",
       "      <td>...</td>\n",
       "      <td>...</td>\n",
       "      <td>...</td>\n",
       "      <td>...</td>\n",
       "      <td>...</td>\n",
       "      <td>...</td>\n",
       "      <td>...</td>\n",
       "      <td>...</td>\n",
       "      <td>...</td>\n",
       "      <td>...</td>\n",
       "      <td>...</td>\n",
       "      <td>...</td>\n",
       "      <td>...</td>\n",
       "    </tr>\n",
       "    <tr>\n",
       "      <td>236</td>\n",
       "      <td>3/1/2003</td>\n",
       "      <td>16.864338</td>\n",
       "      <td>14.30</td>\n",
       "      <td>19.309999</td>\n",
       "      <td>4.34</td>\n",
       "      <td>22.730000</td>\n",
       "      <td>18.400000</td>\n",
       "      <td>18.570000</td>\n",
       "      <td>84.739998</td>\n",
       "      <td>10.38</td>\n",
       "      <td>0.33</td>\n",
       "      <td>0</td>\n",
       "    </tr>\n",
       "    <tr>\n",
       "      <td>237</td>\n",
       "      <td>2/1/2003</td>\n",
       "      <td>17.099918</td>\n",
       "      <td>14.52</td>\n",
       "      <td>19.180000</td>\n",
       "      <td>4.27</td>\n",
       "      <td>22.240000</td>\n",
       "      <td>17.700001</td>\n",
       "      <td>18.670000</td>\n",
       "      <td>84.900002</td>\n",
       "      <td>10.44</td>\n",
       "      <td>0.35</td>\n",
       "      <td>0</td>\n",
       "    </tr>\n",
       "    <tr>\n",
       "      <td>238</td>\n",
       "      <td>4/1/2009</td>\n",
       "      <td>8.716491</td>\n",
       "      <td>17.25</td>\n",
       "      <td>21.760000</td>\n",
       "      <td>2.27</td>\n",
       "      <td>23.290001</td>\n",
       "      <td>25.850000</td>\n",
       "      <td>22.000000</td>\n",
       "      <td>87.419998</td>\n",
       "      <td>10.10</td>\n",
       "      <td>0.36</td>\n",
       "      <td>0</td>\n",
       "    </tr>\n",
       "    <tr>\n",
       "      <td>239</td>\n",
       "      <td>3/1/2009</td>\n",
       "      <td>7.156783</td>\n",
       "      <td>15.62</td>\n",
       "      <td>18.430000</td>\n",
       "      <td>2.05</td>\n",
       "      <td>19.650000</td>\n",
       "      <td>25.549999</td>\n",
       "      <td>21.100000</td>\n",
       "      <td>79.519997</td>\n",
       "      <td>10.10</td>\n",
       "      <td>0.47</td>\n",
       "      <td>0</td>\n",
       "    </tr>\n",
       "    <tr>\n",
       "      <td>240</td>\n",
       "      <td>2/1/2009</td>\n",
       "      <td>6.173842</td>\n",
       "      <td>14.12</td>\n",
       "      <td>17.100000</td>\n",
       "      <td>2.09</td>\n",
       "      <td>17.530001</td>\n",
       "      <td>25.350000</td>\n",
       "      <td>20.360001</td>\n",
       "      <td>73.930000</td>\n",
       "      <td>9.99</td>\n",
       "      <td>0.50</td>\n",
       "      <td>0</td>\n",
       "    </tr>\n",
       "  </tbody>\n",
       "</table>\n",
       "<p>241 rows × 12 columns</p>\n",
       "</div>"
      ],
      "text/plain": [
       "          Date        XLF    XLK        XLI    HY        XLY        XLU  \\\n",
       "0     2/1/2008  20.982941  22.15  36.250000  4.77  31.320000  37.610001   \n",
       "1     1/1/2008  23.671812  23.25  37.000000  5.03  32.580002  39.220001   \n",
       "2     3/1/2008  20.203087  22.40  37.400002  4.58  30.719999  37.939999   \n",
       "3    11/1/2007  25.182777  26.26  39.400002  5.34  34.650002  42.730000   \n",
       "4    12/1/2007  23.501219  26.66  39.160000  5.15  32.700001  42.330002   \n",
       "..         ...        ...    ...        ...   ...        ...        ...   \n",
       "236   3/1/2003  16.864338  14.30  19.309999  4.34  22.730000  18.400000   \n",
       "237   2/1/2003  17.099918  14.52  19.180000  4.27  22.240000  17.700001   \n",
       "238   4/1/2009   8.716491  17.25  21.760000  2.27  23.290001  25.850000   \n",
       "239   3/1/2009   7.156783  15.62  18.430000  2.05  19.650000  25.549999   \n",
       "240   2/1/2009   6.173842  14.12  17.100000  2.09  17.530001  25.350000   \n",
       "\n",
       "           XLP         SPY  VBMFX  Target_FR12Mts  Class  \n",
       "0    27.129999  133.820007  10.27           -0.45      1  \n",
       "1    27.200001  137.369995  10.30           -0.40      1  \n",
       "2    27.860001  131.970001  10.26           -0.40      1  \n",
       "3    29.190001  148.660004  10.17           -0.39      1  \n",
       "4    28.799999  146.210007  10.16           -0.38      1  \n",
       "..         ...         ...    ...             ...    ...  \n",
       "236  18.570000   84.739998  10.38            0.33      0  \n",
       "237  18.670000   84.900002  10.44            0.35      0  \n",
       "238  22.000000   87.419998  10.10            0.36      0  \n",
       "239  21.100000   79.519997  10.10            0.47      0  \n",
       "240  20.360001   73.930000   9.99            0.50      0  \n",
       "\n",
       "[241 rows x 12 columns]"
      ]
     },
     "execution_count": 2,
     "metadata": {},
     "output_type": "execute_result"
    }
   ],
   "source": [
    "sector_data = pd.read_csv (r'DataForClustering_Classification.csv')\n",
    "sector_data"
   ]
  },
  {
   "cell_type": "code",
   "execution_count": 3,
   "metadata": {},
   "outputs": [
    {
     "data": {
      "text/html": [
       "<div>\n",
       "<style scoped>\n",
       "    .dataframe tbody tr th:only-of-type {\n",
       "        vertical-align: middle;\n",
       "    }\n",
       "\n",
       "    .dataframe tbody tr th {\n",
       "        vertical-align: top;\n",
       "    }\n",
       "\n",
       "    .dataframe thead th {\n",
       "        text-align: right;\n",
       "    }\n",
       "</style>\n",
       "<table border=\"1\" class=\"dataframe\">\n",
       "  <thead>\n",
       "    <tr style=\"text-align: right;\">\n",
       "      <th></th>\n",
       "      <th>XLF</th>\n",
       "      <th>XLK</th>\n",
       "      <th>XLI</th>\n",
       "      <th>HY</th>\n",
       "      <th>XLY</th>\n",
       "      <th>XLU</th>\n",
       "      <th>XLP</th>\n",
       "      <th>SPY</th>\n",
       "      <th>VBMFX</th>\n",
       "      <th>Class</th>\n",
       "    </tr>\n",
       "  </thead>\n",
       "  <tbody>\n",
       "    <tr>\n",
       "      <td>0</td>\n",
       "      <td>20.982941</td>\n",
       "      <td>22.15</td>\n",
       "      <td>36.250000</td>\n",
       "      <td>4.77</td>\n",
       "      <td>31.320000</td>\n",
       "      <td>37.610001</td>\n",
       "      <td>27.129999</td>\n",
       "      <td>133.820007</td>\n",
       "      <td>10.27</td>\n",
       "      <td>1</td>\n",
       "    </tr>\n",
       "    <tr>\n",
       "      <td>1</td>\n",
       "      <td>23.671812</td>\n",
       "      <td>23.25</td>\n",
       "      <td>37.000000</td>\n",
       "      <td>5.03</td>\n",
       "      <td>32.580002</td>\n",
       "      <td>39.220001</td>\n",
       "      <td>27.200001</td>\n",
       "      <td>137.369995</td>\n",
       "      <td>10.30</td>\n",
       "      <td>1</td>\n",
       "    </tr>\n",
       "    <tr>\n",
       "      <td>2</td>\n",
       "      <td>20.203087</td>\n",
       "      <td>22.40</td>\n",
       "      <td>37.400002</td>\n",
       "      <td>4.58</td>\n",
       "      <td>30.719999</td>\n",
       "      <td>37.939999</td>\n",
       "      <td>27.860001</td>\n",
       "      <td>131.970001</td>\n",
       "      <td>10.26</td>\n",
       "      <td>1</td>\n",
       "    </tr>\n",
       "    <tr>\n",
       "      <td>3</td>\n",
       "      <td>25.182777</td>\n",
       "      <td>26.26</td>\n",
       "      <td>39.400002</td>\n",
       "      <td>5.34</td>\n",
       "      <td>34.650002</td>\n",
       "      <td>42.730000</td>\n",
       "      <td>29.190001</td>\n",
       "      <td>148.660004</td>\n",
       "      <td>10.17</td>\n",
       "      <td>1</td>\n",
       "    </tr>\n",
       "    <tr>\n",
       "      <td>4</td>\n",
       "      <td>23.501219</td>\n",
       "      <td>26.66</td>\n",
       "      <td>39.160000</td>\n",
       "      <td>5.15</td>\n",
       "      <td>32.700001</td>\n",
       "      <td>42.330002</td>\n",
       "      <td>28.799999</td>\n",
       "      <td>146.210007</td>\n",
       "      <td>10.16</td>\n",
       "      <td>1</td>\n",
       "    </tr>\n",
       "    <tr>\n",
       "      <td>...</td>\n",
       "      <td>...</td>\n",
       "      <td>...</td>\n",
       "      <td>...</td>\n",
       "      <td>...</td>\n",
       "      <td>...</td>\n",
       "      <td>...</td>\n",
       "      <td>...</td>\n",
       "      <td>...</td>\n",
       "      <td>...</td>\n",
       "      <td>...</td>\n",
       "    </tr>\n",
       "    <tr>\n",
       "      <td>236</td>\n",
       "      <td>16.864338</td>\n",
       "      <td>14.30</td>\n",
       "      <td>19.309999</td>\n",
       "      <td>4.34</td>\n",
       "      <td>22.730000</td>\n",
       "      <td>18.400000</td>\n",
       "      <td>18.570000</td>\n",
       "      <td>84.739998</td>\n",
       "      <td>10.38</td>\n",
       "      <td>0</td>\n",
       "    </tr>\n",
       "    <tr>\n",
       "      <td>237</td>\n",
       "      <td>17.099918</td>\n",
       "      <td>14.52</td>\n",
       "      <td>19.180000</td>\n",
       "      <td>4.27</td>\n",
       "      <td>22.240000</td>\n",
       "      <td>17.700001</td>\n",
       "      <td>18.670000</td>\n",
       "      <td>84.900002</td>\n",
       "      <td>10.44</td>\n",
       "      <td>0</td>\n",
       "    </tr>\n",
       "    <tr>\n",
       "      <td>238</td>\n",
       "      <td>8.716491</td>\n",
       "      <td>17.25</td>\n",
       "      <td>21.760000</td>\n",
       "      <td>2.27</td>\n",
       "      <td>23.290001</td>\n",
       "      <td>25.850000</td>\n",
       "      <td>22.000000</td>\n",
       "      <td>87.419998</td>\n",
       "      <td>10.10</td>\n",
       "      <td>0</td>\n",
       "    </tr>\n",
       "    <tr>\n",
       "      <td>239</td>\n",
       "      <td>7.156783</td>\n",
       "      <td>15.62</td>\n",
       "      <td>18.430000</td>\n",
       "      <td>2.05</td>\n",
       "      <td>19.650000</td>\n",
       "      <td>25.549999</td>\n",
       "      <td>21.100000</td>\n",
       "      <td>79.519997</td>\n",
       "      <td>10.10</td>\n",
       "      <td>0</td>\n",
       "    </tr>\n",
       "    <tr>\n",
       "      <td>240</td>\n",
       "      <td>6.173842</td>\n",
       "      <td>14.12</td>\n",
       "      <td>17.100000</td>\n",
       "      <td>2.09</td>\n",
       "      <td>17.530001</td>\n",
       "      <td>25.350000</td>\n",
       "      <td>20.360001</td>\n",
       "      <td>73.930000</td>\n",
       "      <td>9.99</td>\n",
       "      <td>0</td>\n",
       "    </tr>\n",
       "  </tbody>\n",
       "</table>\n",
       "<p>241 rows × 10 columns</p>\n",
       "</div>"
      ],
      "text/plain": [
       "           XLF    XLK        XLI    HY        XLY        XLU        XLP  \\\n",
       "0    20.982941  22.15  36.250000  4.77  31.320000  37.610001  27.129999   \n",
       "1    23.671812  23.25  37.000000  5.03  32.580002  39.220001  27.200001   \n",
       "2    20.203087  22.40  37.400002  4.58  30.719999  37.939999  27.860001   \n",
       "3    25.182777  26.26  39.400002  5.34  34.650002  42.730000  29.190001   \n",
       "4    23.501219  26.66  39.160000  5.15  32.700001  42.330002  28.799999   \n",
       "..         ...    ...        ...   ...        ...        ...        ...   \n",
       "236  16.864338  14.30  19.309999  4.34  22.730000  18.400000  18.570000   \n",
       "237  17.099918  14.52  19.180000  4.27  22.240000  17.700001  18.670000   \n",
       "238   8.716491  17.25  21.760000  2.27  23.290001  25.850000  22.000000   \n",
       "239   7.156783  15.62  18.430000  2.05  19.650000  25.549999  21.100000   \n",
       "240   6.173842  14.12  17.100000  2.09  17.530001  25.350000  20.360001   \n",
       "\n",
       "            SPY  VBMFX  Class  \n",
       "0    133.820007  10.27      1  \n",
       "1    137.369995  10.30      1  \n",
       "2    131.970001  10.26      1  \n",
       "3    148.660004  10.17      1  \n",
       "4    146.210007  10.16      1  \n",
       "..          ...    ...    ...  \n",
       "236   84.739998  10.38      0  \n",
       "237   84.900002  10.44      0  \n",
       "238   87.419998  10.10      0  \n",
       "239   79.519997  10.10      0  \n",
       "240   73.930000   9.99      0  \n",
       "\n",
       "[241 rows x 10 columns]"
      ]
     },
     "execution_count": 3,
     "metadata": {},
     "output_type": "execute_result"
    }
   ],
   "source": [
    "dataset = sector_data.drop(['Date','Target_FR12Mts'],axis=1)\n",
    "dataset"
   ]
  },
  {
   "cell_type": "code",
   "execution_count": 4,
   "metadata": {},
   "outputs": [
    {
     "data": {
      "text/html": [
       "<div>\n",
       "<style scoped>\n",
       "    .dataframe tbody tr th:only-of-type {\n",
       "        vertical-align: middle;\n",
       "    }\n",
       "\n",
       "    .dataframe tbody tr th {\n",
       "        vertical-align: top;\n",
       "    }\n",
       "\n",
       "    .dataframe thead th {\n",
       "        text-align: right;\n",
       "    }\n",
       "</style>\n",
       "<table border=\"1\" class=\"dataframe\">\n",
       "  <thead>\n",
       "    <tr style=\"text-align: right;\">\n",
       "      <th></th>\n",
       "      <th>XLF</th>\n",
       "      <th>XLK</th>\n",
       "      <th>XLI</th>\n",
       "      <th>HY</th>\n",
       "      <th>XLY</th>\n",
       "      <th>XLU</th>\n",
       "      <th>XLP</th>\n",
       "      <th>SPY</th>\n",
       "      <th>VBMFX</th>\n",
       "    </tr>\n",
       "  </thead>\n",
       "  <tbody>\n",
       "    <tr>\n",
       "      <td>XLF</td>\n",
       "      <td>1.000000</td>\n",
       "      <td>0.340871</td>\n",
       "      <td>0.368769</td>\n",
       "      <td>0.495649</td>\n",
       "      <td>0.317827</td>\n",
       "      <td>0.320451</td>\n",
       "      <td>0.176300</td>\n",
       "      <td>0.423476</td>\n",
       "      <td>-0.358095</td>\n",
       "    </tr>\n",
       "    <tr>\n",
       "      <td>XLK</td>\n",
       "      <td>0.340871</td>\n",
       "      <td>1.000000</td>\n",
       "      <td>0.818686</td>\n",
       "      <td>-0.114189</td>\n",
       "      <td>0.804717</td>\n",
       "      <td>0.741973</td>\n",
       "      <td>0.768081</td>\n",
       "      <td>0.896315</td>\n",
       "      <td>0.162684</td>\n",
       "    </tr>\n",
       "    <tr>\n",
       "      <td>XLI</td>\n",
       "      <td>0.368769</td>\n",
       "      <td>0.818686</td>\n",
       "      <td>1.000000</td>\n",
       "      <td>-0.406335</td>\n",
       "      <td>0.977597</td>\n",
       "      <td>0.940201</td>\n",
       "      <td>0.952151</td>\n",
       "      <td>0.983219</td>\n",
       "      <td>0.473555</td>\n",
       "    </tr>\n",
       "    <tr>\n",
       "      <td>HY</td>\n",
       "      <td>0.495649</td>\n",
       "      <td>-0.114189</td>\n",
       "      <td>-0.406335</td>\n",
       "      <td>1.000000</td>\n",
       "      <td>-0.466917</td>\n",
       "      <td>-0.397575</td>\n",
       "      <td>-0.530487</td>\n",
       "      <td>-0.303502</td>\n",
       "      <td>-0.670512</td>\n",
       "    </tr>\n",
       "    <tr>\n",
       "      <td>XLY</td>\n",
       "      <td>0.317827</td>\n",
       "      <td>0.804717</td>\n",
       "      <td>0.977597</td>\n",
       "      <td>-0.466917</td>\n",
       "      <td>1.000000</td>\n",
       "      <td>0.891749</td>\n",
       "      <td>0.961094</td>\n",
       "      <td>0.967940</td>\n",
       "      <td>0.530667</td>\n",
       "    </tr>\n",
       "    <tr>\n",
       "      <td>XLU</td>\n",
       "      <td>0.320451</td>\n",
       "      <td>0.741973</td>\n",
       "      <td>0.940201</td>\n",
       "      <td>-0.397575</td>\n",
       "      <td>0.891749</td>\n",
       "      <td>1.000000</td>\n",
       "      <td>0.918899</td>\n",
       "      <td>0.921545</td>\n",
       "      <td>0.457920</td>\n",
       "    </tr>\n",
       "    <tr>\n",
       "      <td>XLP</td>\n",
       "      <td>0.176300</td>\n",
       "      <td>0.768081</td>\n",
       "      <td>0.952151</td>\n",
       "      <td>-0.530487</td>\n",
       "      <td>0.961094</td>\n",
       "      <td>0.918899</td>\n",
       "      <td>1.000000</td>\n",
       "      <td>0.935211</td>\n",
       "      <td>0.624367</td>\n",
       "    </tr>\n",
       "    <tr>\n",
       "      <td>SPY</td>\n",
       "      <td>0.423476</td>\n",
       "      <td>0.896315</td>\n",
       "      <td>0.983219</td>\n",
       "      <td>-0.303502</td>\n",
       "      <td>0.967940</td>\n",
       "      <td>0.921545</td>\n",
       "      <td>0.935211</td>\n",
       "      <td>1.000000</td>\n",
       "      <td>0.385167</td>\n",
       "    </tr>\n",
       "    <tr>\n",
       "      <td>VBMFX</td>\n",
       "      <td>-0.358095</td>\n",
       "      <td>0.162684</td>\n",
       "      <td>0.473555</td>\n",
       "      <td>-0.670512</td>\n",
       "      <td>0.530667</td>\n",
       "      <td>0.457920</td>\n",
       "      <td>0.624367</td>\n",
       "      <td>0.385167</td>\n",
       "      <td>1.000000</td>\n",
       "    </tr>\n",
       "  </tbody>\n",
       "</table>\n",
       "</div>"
      ],
      "text/plain": [
       "            XLF       XLK       XLI        HY       XLY       XLU       XLP  \\\n",
       "XLF    1.000000  0.340871  0.368769  0.495649  0.317827  0.320451  0.176300   \n",
       "XLK    0.340871  1.000000  0.818686 -0.114189  0.804717  0.741973  0.768081   \n",
       "XLI    0.368769  0.818686  1.000000 -0.406335  0.977597  0.940201  0.952151   \n",
       "HY     0.495649 -0.114189 -0.406335  1.000000 -0.466917 -0.397575 -0.530487   \n",
       "XLY    0.317827  0.804717  0.977597 -0.466917  1.000000  0.891749  0.961094   \n",
       "XLU    0.320451  0.741973  0.940201 -0.397575  0.891749  1.000000  0.918899   \n",
       "XLP    0.176300  0.768081  0.952151 -0.530487  0.961094  0.918899  1.000000   \n",
       "SPY    0.423476  0.896315  0.983219 -0.303502  0.967940  0.921545  0.935211   \n",
       "VBMFX -0.358095  0.162684  0.473555 -0.670512  0.530667  0.457920  0.624367   \n",
       "\n",
       "            SPY     VBMFX  \n",
       "XLF    0.423476 -0.358095  \n",
       "XLK    0.896315  0.162684  \n",
       "XLI    0.983219  0.473555  \n",
       "HY    -0.303502 -0.670512  \n",
       "XLY    0.967940  0.530667  \n",
       "XLU    0.921545  0.457920  \n",
       "XLP    0.935211  0.624367  \n",
       "SPY    1.000000  0.385167  \n",
       "VBMFX  0.385167  1.000000  "
      ]
     },
     "execution_count": 4,
     "metadata": {},
     "output_type": "execute_result"
    }
   ],
   "source": [
    "dataset1 = dataset.drop(['Class'],axis=1)\n",
    "corrMatrix = dataset1.corr()\n",
    "corrMatrix"
   ]
  },
  {
   "cell_type": "code",
   "execution_count": 5,
   "metadata": {},
   "outputs": [
    {
     "data": {
      "text/plain": [
       "<matplotlib.axes._subplots.AxesSubplot at 0x20110318a08>"
      ]
     },
     "execution_count": 5,
     "metadata": {},
     "output_type": "execute_result"
    },
    {
     "data": {
      "image/png": "[encoded data removed]",
      "text/plain": [
       "<Figure size 432x288 with 2 Axes>"
      ]
     },
     "metadata": {
      "needs_background": "light"
     },
     "output_type": "display_data"
    }
   ],
   "source": [
    "import seaborn as sn\n",
    "sn.heatmap(corrMatrix, annot=True)"
   ]
  },
  {
   "cell_type": "code",
   "execution_count": null,
   "metadata": {},
   "outputs": [],
   "source": []
  },
  {
   "cell_type": "code",
   "execution_count": 6,
   "metadata": {},
   "outputs": [],
   "source": [
    "X = dataset.drop('Class', 1)\n",
    "y = dataset['Class']"
   ]
  },
  {
   "cell_type": "code",
   "execution_count": 7,
   "metadata": {},
   "outputs": [],
   "source": [
    "from sklearn.linear_model import LogisticRegression\n",
    "from sklearn.model_selection import train_test_split\n",
    "from sklearn import metrics\n",
    "X_train, X_test, y_train, y_test = train_test_split(X, y, test_size=0.3, random_state=42)"
   ]
  },
  {
   "cell_type": "code",
   "execution_count": 8,
   "metadata": {},
   "outputs": [],
   "source": [
    "from sklearn.preprocessing import StandardScaler\n",
    "\n",
    "sc = StandardScaler()\n",
    "X_train = sc.fit_transform(X_train)\n",
    "X_test = sc.transform(X_test)"
   ]
  },
  {
   "cell_type": "code",
   "execution_count": 9,
   "metadata": {},
   "outputs": [],
   "source": [
    "from sklearn.decomposition import PCA\n",
    "\n",
    "pca = PCA()\n",
    "X_train = pca.fit_transform(X_train)\n",
    "X_test = pca.transform(X_test)"
   ]
  },
  {
   "cell_type": "code",
   "execution_count": 10,
   "metadata": {},
   "outputs": [],
   "source": [
    "explained_variance = pca.explained_variance_ratio_"
   ]
  },
  {
   "cell_type": "code",
   "execution_count": 11,
   "metadata": {},
   "outputs": [
    {
     "data": {
      "text/plain": [
       "array([6.67514848e-01, 2.25877237e-01, 4.77843774e-02, 3.41860149e-02,\n",
       "       1.67602446e-02, 3.90803258e-03, 2.78839343e-03, 1.07244485e-03,\n",
       "       1.08407197e-04])"
      ]
     },
     "execution_count": 11,
     "metadata": {},
     "output_type": "execute_result"
    }
   ],
   "source": [
    "explained_variance"
   ]
  },
  {
   "cell_type": "code",
   "execution_count": 12,
   "metadata": {},
   "outputs": [
    {
     "data": {
      "text/plain": [
       "[<matplotlib.lines.Line2D at 0x20112015388>]"
      ]
     },
     "execution_count": 12,
     "metadata": {},
     "output_type": "execute_result"
    },
    {
     "data": {
      "image/png": "[encoded data removed]",
      "text/plain": [
       "<Figure size 432x288 with 1 Axes>"
      ]
     },
     "metadata": {
      "needs_background": "light"
     },
     "output_type": "display_data"
    }
   ],
   "source": [
    "from pylab import *\n",
    "plot(explained_variance)"
   ]
  },
  {
   "cell_type": "code",
   "execution_count": 13,
   "metadata": {},
   "outputs": [],
   "source": [
    "from sklearn.decomposition import PCA\n",
    "\n",
    "pca = PCA(n_components=8)\n",
    "X_train = pca.fit_transform(X_train)\n",
    "X_test = pca.transform(X_test)"
   ]
  },
  {
   "cell_type": "code",
   "execution_count": null,
   "metadata": {},
   "outputs": [],
   "source": []
  },
  {
   "cell_type": "code",
   "execution_count": null,
   "metadata": {},
   "outputs": [],
   "source": []
  },
  {
   "cell_type": "code",
   "execution_count": null,
   "metadata": {},
   "outputs": [],
   "source": []
  },
  {
   "cell_type": "code",
   "execution_count": 14,
   "metadata": {},
   "outputs": [
    {
     "name": "stderr",
     "output_type": "stream",
     "text": [
      "C:\\Users\\Aalok Devkota\\Anaconda3\\lib\\site-packages\\sklearn\\linear_model\\logistic.py:432: FutureWarning: Default solver will be changed to 'lbfgs' in 0.22. Specify a solver to silence this warning.\n",
      "  FutureWarning)\n"
     ]
    },
    {
     "data": {
      "text/plain": [
       "LogisticRegression(C=1.0, class_weight=None, dual=False, fit_intercept=True,\n",
       "                   intercept_scaling=1, l1_ratio=None, max_iter=100,\n",
       "                   multi_class='warn', n_jobs=None, penalty='l2',\n",
       "                   random_state=None, solver='warn', tol=0.0001, verbose=0,\n",
       "                   warm_start=False)"
      ]
     },
     "execution_count": 14,
     "metadata": {},
     "output_type": "execute_result"
    }
   ],
   "source": [
    "\n",
    "logreg = LogisticRegression()\n",
    "logreg.fit(X_train, y_train)"
   ]
  },
  {
   "cell_type": "code",
   "execution_count": 15,
   "metadata": {},
   "outputs": [
    {
     "name": "stdout",
     "output_type": "stream",
     "text": [
      "Accuracy of logistic regression classifier on test set: 0.79\n"
     ]
    }
   ],
   "source": [
    "y_pred = logreg.predict(X_test)\n",
    "print('Accuracy of logistic regression classifier on test set: {:.2f}'.format(logreg.score(X_test, y_test)))"
   ]
  },
  {
   "cell_type": "code",
   "execution_count": 16,
   "metadata": {},
   "outputs": [
    {
     "name": "stdout",
     "output_type": "stream",
     "text": [
      "[[49  9]\n",
      " [ 6  9]]\n"
     ]
    }
   ],
   "source": [
    "from sklearn.metrics import confusion_matrix\n",
    "confusion_matrix = confusion_matrix(y_test, y_pred)\n",
    "print(confusion_matrix)"
   ]
  },
  {
   "cell_type": "code",
   "execution_count": 17,
   "metadata": {},
   "outputs": [
    {
     "name": "stdout",
     "output_type": "stream",
     "text": [
      "              precision    recall  f1-score   support\n",
      "\n",
      "           0       0.89      0.84      0.87        58\n",
      "           1       0.50      0.60      0.55        15\n",
      "\n",
      "    accuracy                           0.79        73\n",
      "   macro avg       0.70      0.72      0.71        73\n",
      "weighted avg       0.81      0.79      0.80        73\n",
      "\n"
     ]
    }
   ],
   "source": [
    "from sklearn.metrics import classification_report\n",
    "print(classification_report(y_test, y_pred))"
   ]
  },
  {
   "cell_type": "code",
   "execution_count": 18,
   "metadata": {},
   "outputs": [
    {
     "data": {
      "image/png": "[encoded data removed]",
      "text/plain": [
       "<Figure size 432x288 with 1 Axes>"
      ]
     },
     "metadata": {
      "needs_background": "light"
     },
     "output_type": "display_data"
    }
   ],
   "source": [
    "from sklearn.metrics import roc_auc_score\n",
    "from sklearn.metrics import roc_curve\n",
    "logit_roc_auc = roc_auc_score(y_test, logreg.predict(X_test))\n",
    "fpr, tpr, thresholds = roc_curve(y_test, logreg.predict_proba(X_test)[:,1])\n",
    "plt.figure()\n",
    "plt.plot(fpr, tpr, label='Logistic Regression (area = %0.2f)' % logit_roc_auc)\n",
    "plt.plot([0, 1], [0, 1],'r--')\n",
    "plt.xlim([0.0, 1.0])\n",
    "plt.ylim([0.0, 1.05])\n",
    "plt.xlabel('False Positive Rate')\n",
    "plt.ylabel('True Positive Rate')\n",
    "plt.title('Maket Decline 12Mts Frwd')\n",
    "plt.legend(loc=\"lower right\")\n",
    "\n",
    "plt.show()"
   ]
  },
  {
   "cell_type": "code",
   "execution_count": null,
   "metadata": {},
   "outputs": [],
   "source": []
  },
  {
   "cell_type": "code",
   "execution_count": null,
   "metadata": {},
   "outputs": [],
   "source": []
  }
 ],
 "metadata": {
  "kernelspec": {
   "display_name": "Python 3",
   "language": "python",
   "name": "python3"
  },
  "language_info": {
   "codemirror_mode": {
    "name": "ipython",
    "version": 3
   },
   "file_extension": ".py",
   "mimetype": "text/x-python",
   "name": "python",
   "nbconvert_exporter": "python",
   "pygments_lexer": "ipython3",
   "version": "3.6.9"
  }
 },
 "nbformat": 4,
 "nbformat_minor": 2
}
