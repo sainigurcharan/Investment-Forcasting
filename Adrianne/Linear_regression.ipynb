{
 "cells": [
  {
   "cell_type": "code",
   "execution_count": 1,
   "metadata": {},
   "outputs": [],
   "source": [
    "import pandas as pd \n",
    "import numpy as np \n",
    "import matplotlib.pyplot as plt\n",
    "import seaborn as sns\n",
    "%matplotlib inline"
   ]
  },
  {
   "cell_type": "code",
   "execution_count": 4,
   "metadata": {
    "scrolled": false
   },
   "outputs": [
    {
     "data": {
      "text/html": [
       "<div>\n",
       "<style scoped>\n",
       "    .dataframe tbody tr th:only-of-type {\n",
       "        vertical-align: middle;\n",
       "    }\n",
       "\n",
       "    .dataframe tbody tr th {\n",
       "        vertical-align: top;\n",
       "    }\n",
       "\n",
       "    .dataframe thead th {\n",
       "        text-align: right;\n",
       "    }\n",
       "</style>\n",
       "<table border=\"1\" class=\"dataframe\">\n",
       "  <thead>\n",
       "    <tr style=\"text-align: right;\">\n",
       "      <th></th>\n",
       "      <th>Date</th>\n",
       "      <th>XLF</th>\n",
       "      <th>XLK</th>\n",
       "      <th>XLI</th>\n",
       "      <th>HY</th>\n",
       "      <th>XLY</th>\n",
       "      <th>XLU</th>\n",
       "      <th>XLP</th>\n",
       "      <th>SPY</th>\n",
       "      <th>VBMFX</th>\n",
       "      <th>Target_FR12Mts</th>\n",
       "    </tr>\n",
       "  </thead>\n",
       "  <tbody>\n",
       "    <tr>\n",
       "      <td>0</td>\n",
       "      <td>12/1/1998</td>\n",
       "      <td>19.039398</td>\n",
       "      <td>32.62500</td>\n",
       "      <td>24.562500</td>\n",
       "      <td>6.44</td>\n",
       "      <td>26.125000</td>\n",
       "      <td>30.234375</td>\n",
       "      <td>27.156250</td>\n",
       "      <td>123.31250</td>\n",
       "      <td>10.27</td>\n",
       "      <td>0.19</td>\n",
       "    </tr>\n",
       "    <tr>\n",
       "      <td>1</td>\n",
       "      <td>1/1/1999</td>\n",
       "      <td>19.369415</td>\n",
       "      <td>37.81250</td>\n",
       "      <td>24.296875</td>\n",
       "      <td>6.52</td>\n",
       "      <td>27.468750</td>\n",
       "      <td>29.484375</td>\n",
       "      <td>26.796875</td>\n",
       "      <td>127.65625</td>\n",
       "      <td>10.30</td>\n",
       "      <td>0.09</td>\n",
       "    </tr>\n",
       "    <tr>\n",
       "      <td>2</td>\n",
       "      <td>2/1/1999</td>\n",
       "      <td>19.674046</td>\n",
       "      <td>34.06250</td>\n",
       "      <td>24.515625</td>\n",
       "      <td>6.46</td>\n",
       "      <td>27.296875</td>\n",
       "      <td>28.671875</td>\n",
       "      <td>26.515625</td>\n",
       "      <td>123.56250</td>\n",
       "      <td>10.07</td>\n",
       "      <td>0.11</td>\n",
       "    </tr>\n",
       "    <tr>\n",
       "      <td>3</td>\n",
       "      <td>3/1/1999</td>\n",
       "      <td>20.257921</td>\n",
       "      <td>36.59375</td>\n",
       "      <td>24.937500</td>\n",
       "      <td>6.57</td>\n",
       "      <td>28.593750</td>\n",
       "      <td>26.687500</td>\n",
       "      <td>26.437500</td>\n",
       "      <td>128.37500</td>\n",
       "      <td>10.06</td>\n",
       "      <td>0.17</td>\n",
       "    </tr>\n",
       "    <tr>\n",
       "      <td>4</td>\n",
       "      <td>4/1/1999</td>\n",
       "      <td>21.679529</td>\n",
       "      <td>36.81250</td>\n",
       "      <td>28.687500</td>\n",
       "      <td>6.80</td>\n",
       "      <td>29.343750</td>\n",
       "      <td>29.265625</td>\n",
       "      <td>25.515625</td>\n",
       "      <td>133.25000</td>\n",
       "      <td>10.05</td>\n",
       "      <td>0.09</td>\n",
       "    </tr>\n",
       "  </tbody>\n",
       "</table>\n",
       "</div>"
      ],
      "text/plain": [
       "        Date        XLF       XLK        XLI    HY        XLY        XLU  \\\n",
       "0  12/1/1998  19.039398  32.62500  24.562500  6.44  26.125000  30.234375   \n",
       "1   1/1/1999  19.369415  37.81250  24.296875  6.52  27.468750  29.484375   \n",
       "2   2/1/1999  19.674046  34.06250  24.515625  6.46  27.296875  28.671875   \n",
       "3   3/1/1999  20.257921  36.59375  24.937500  6.57  28.593750  26.687500   \n",
       "4   4/1/1999  21.679529  36.81250  28.687500  6.80  29.343750  29.265625   \n",
       "\n",
       "         XLP        SPY  VBMFX  Target_FR12Mts  \n",
       "0  27.156250  123.31250  10.27            0.19  \n",
       "1  26.796875  127.65625  10.30            0.09  \n",
       "2  26.515625  123.56250  10.07            0.11  \n",
       "3  26.437500  128.37500  10.06            0.17  \n",
       "4  25.515625  133.25000  10.05            0.09  "
      ]
     },
     "execution_count": 4,
     "metadata": {},
     "output_type": "execute_result"
    }
   ],
   "source": [
    "data_csv=pd.read_csv(\"data/DataForClustering.csv\")\n",
    "data_csv.head()"
   ]
  },
  {
   "cell_type": "code",
   "execution_count": 103,
   "metadata": {},
   "outputs": [],
   "source": [
    "feature_columns = ['XLF', 'XLK', 'XLI', 'HY', 'XLY', 'XLU', 'XLP', 'SPY', 'VBMFX']\n",
    "X = data_csv[feature_columns]\n",
    "\n",
    "y = data_csv['Target_FR12Mts']"
   ]
  },
  {
   "cell_type": "code",
   "execution_count": 104,
   "metadata": {},
   "outputs": [
    {
     "name": "stdout",
     "output_type": "stream",
     "text": [
      "(241, 9) (241,)\n"
     ]
    }
   ],
   "source": [
    "print(X.shape, y.shape)"
   ]
  },
  {
   "cell_type": "code",
   "execution_count": 105,
   "metadata": {},
   "outputs": [],
   "source": [
    "from sklearn.model_selection import train_test_split\n",
    "\n",
    "X_train, X_test, y_train, y_test = train_test_split(X, y, test_size = 0.30, random_state=42)"
   ]
  },
  {
   "cell_type": "code",
   "execution_count": 106,
   "metadata": {},
   "outputs": [],
   "source": [
    "from sklearn.linear_model import LinearRegression\n",
    "\n",
    "model = LinearRegression()"
   ]
  },
  {
   "cell_type": "code",
   "execution_count": 107,
   "metadata": {},
   "outputs": [
    {
     "data": {
      "text/plain": [
       "LinearRegression(copy_X=True, fit_intercept=True, n_jobs=None, normalize=False)"
      ]
     },
     "execution_count": 107,
     "metadata": {},
     "output_type": "execute_result"
    }
   ],
   "source": [
    "model.fit(X_train, y_train)"
   ]
  },
  {
   "cell_type": "code",
   "execution_count": 108,
   "metadata": {},
   "outputs": [
    {
     "name": "stdout",
     "output_type": "stream",
     "text": [
      "R2 Score: 0.5251064925724247\n",
      "Training Score: 0.5103544594776398\n",
      "Testing Score: 0.5371166222159511\n"
     ]
    }
   ],
   "source": [
    "score = model.score(X, y)\n",
    "print(f\"R2 Score: {score}\")\n",
    "\n",
    "training_score = model.score(X_train, y_train)\n",
    "testing_score = model.score(X_test, y_test)\n",
    "\n",
    "### END SOLUTION \n",
    "\n",
    "print(f\"Training Score: {training_score}\")\n",
    "print(f\"Testing Score: {testing_score}\")"
   ]
  },
  {
   "cell_type": "code",
   "execution_count": 109,
   "metadata": {},
   "outputs": [
    {
     "data": {
      "text/plain": [
       "<matplotlib.axes._subplots.AxesSubplot at 0x28400b8b160>"
      ]
     },
     "execution_count": 109,
     "metadata": {},
     "output_type": "execute_result"
    },
    {
     "data": {
      "image/png": "[encoded data removed]",
      "text/plain": [
       "<Figure size 1080x720 with 1 Axes>"
      ]
     },
     "metadata": {
      "needs_background": "light"
     },
     "output_type": "display_data"
    }
   ],
   "source": [
    "plt.figure(figsize=(15,10))\n",
    "plt.tight_layout()\n",
    "sns.distplot(data_csv['Target_FR12Mts'])\n"
   ]
  },
  {
   "cell_type": "code",
   "execution_count": 110,
   "metadata": {},
   "outputs": [
    {
     "data": {
      "text/plain": [
       "LinearRegression(copy_X=True, fit_intercept=True, n_jobs=None, normalize=False)"
      ]
     },
     "execution_count": 110,
     "metadata": {},
     "output_type": "execute_result"
    }
   ],
   "source": [
    "regressor = LinearRegression()  \n",
    "regressor.fit(X_train, y_train)"
   ]
  },
  {
   "cell_type": "code",
   "execution_count": 111,
   "metadata": {},
   "outputs": [
    {
     "data": {
      "text/html": [
       "<div>\n",
       "<style scoped>\n",
       "    .dataframe tbody tr th:only-of-type {\n",
       "        vertical-align: middle;\n",
       "    }\n",
       "\n",
       "    .dataframe tbody tr th {\n",
       "        vertical-align: top;\n",
       "    }\n",
       "\n",
       "    .dataframe thead th {\n",
       "        text-align: right;\n",
       "    }\n",
       "</style>\n",
       "<table border=\"1\" class=\"dataframe\">\n",
       "  <thead>\n",
       "    <tr style=\"text-align: right;\">\n",
       "      <th></th>\n",
       "      <th>Coefficient</th>\n",
       "    </tr>\n",
       "  </thead>\n",
       "  <tbody>\n",
       "    <tr>\n",
       "      <td>XLF</td>\n",
       "      <td>-0.013456</td>\n",
       "    </tr>\n",
       "    <tr>\n",
       "      <td>XLK</td>\n",
       "      <td>0.003253</td>\n",
       "    </tr>\n",
       "    <tr>\n",
       "      <td>XLI</td>\n",
       "      <td>-0.009035</td>\n",
       "    </tr>\n",
       "    <tr>\n",
       "      <td>HY</td>\n",
       "      <td>0.050894</td>\n",
       "    </tr>\n",
       "    <tr>\n",
       "      <td>XLY</td>\n",
       "      <td>0.027038</td>\n",
       "    </tr>\n",
       "    <tr>\n",
       "      <td>XLU</td>\n",
       "      <td>0.008188</td>\n",
       "    </tr>\n",
       "    <tr>\n",
       "      <td>XLP</td>\n",
       "      <td>-0.002455</td>\n",
       "    </tr>\n",
       "    <tr>\n",
       "      <td>SPY</td>\n",
       "      <td>-0.010694</td>\n",
       "    </tr>\n",
       "    <tr>\n",
       "      <td>VBMFX</td>\n",
       "      <td>-0.090422</td>\n",
       "    </tr>\n",
       "  </tbody>\n",
       "</table>\n",
       "</div>"
      ],
      "text/plain": [
       "       Coefficient\n",
       "XLF      -0.013456\n",
       "XLK       0.003253\n",
       "XLI      -0.009035\n",
       "HY        0.050894\n",
       "XLY       0.027038\n",
       "XLU       0.008188\n",
       "XLP      -0.002455\n",
       "SPY      -0.010694\n",
       "VBMFX    -0.090422"
      ]
     },
     "execution_count": 111,
     "metadata": {},
     "output_type": "execute_result"
    }
   ],
   "source": [
    "coeff_df = pd.DataFrame(regressor.coef_, feature_columns, columns=['Coefficient'])  \n",
    "coeff_df"
   ]
  },
  {
   "cell_type": "code",
   "execution_count": 112,
   "metadata": {},
   "outputs": [
    {
     "data": {
      "text/html": [
       "<div>\n",
       "<style scoped>\n",
       "    .dataframe tbody tr th:only-of-type {\n",
       "        vertical-align: middle;\n",
       "    }\n",
       "\n",
       "    .dataframe tbody tr th {\n",
       "        vertical-align: top;\n",
       "    }\n",
       "\n",
       "    .dataframe thead th {\n",
       "        text-align: right;\n",
       "    }\n",
       "</style>\n",
       "<table border=\"1\" class=\"dataframe\">\n",
       "  <thead>\n",
       "    <tr style=\"text-align: right;\">\n",
       "      <th></th>\n",
       "      <th>Actual</th>\n",
       "      <th>Predicted</th>\n",
       "    </tr>\n",
       "  </thead>\n",
       "  <tbody>\n",
       "    <tr>\n",
       "      <td>24</td>\n",
       "      <td>-0.13</td>\n",
       "      <td>1.008716</td>\n",
       "    </tr>\n",
       "    <tr>\n",
       "      <td>6</td>\n",
       "      <td>0.06</td>\n",
       "      <td>0.463088</td>\n",
       "    </tr>\n",
       "    <tr>\n",
       "      <td>222</td>\n",
       "      <td>0.12</td>\n",
       "      <td>0.267562</td>\n",
       "    </tr>\n",
       "    <tr>\n",
       "      <td>208</td>\n",
       "      <td>0.15</td>\n",
       "      <td>-0.097148</td>\n",
       "    </tr>\n",
       "    <tr>\n",
       "      <td>236</td>\n",
       "      <td>0.01</td>\n",
       "      <td>-0.221148</td>\n",
       "    </tr>\n",
       "  </tbody>\n",
       "</table>\n",
       "</div>"
      ],
      "text/plain": [
       "     Actual  Predicted\n",
       "24    -0.13   1.008716\n",
       "6      0.06   0.463088\n",
       "222    0.12   0.267562\n",
       "208    0.15  -0.097148\n",
       "236    0.01  -0.221148"
      ]
     },
     "execution_count": 112,
     "metadata": {},
     "output_type": "execute_result"
    }
   ],
   "source": [
    "df = pd.DataFrame({'Actual': y_test, 'Predicted': y_pred})\n",
    "df1 = df.head(25)\n",
    "df1.head()"
   ]
  },
  {
   "cell_type": "code",
   "execution_count": 113,
   "metadata": {},
   "outputs": [],
   "source": [
    "y_pred = regressor.predict(X_test)"
   ]
  },
  {
   "cell_type": "code",
   "execution_count": 114,
   "metadata": {},
   "outputs": [
    {
     "data": {
      "image/png": "[encoded data removed]",
      "text/plain": [
       "<Figure size 720x576 with 1 Axes>"
      ]
     },
     "metadata": {
      "needs_background": "light"
     },
     "output_type": "display_data"
    }
   ],
   "source": [
    "df1.plot(kind='bar',figsize=(10,8))\n",
    "plt.grid(which='major', linestyle='-', linewidth='0.5', color='green')\n",
    "plt.grid(which='minor', linestyle=':', linewidth='0.5', color='black')\n",
    "plt.show()"
   ]
  },
  {
   "cell_type": "code",
   "execution_count": 115,
   "metadata": {},
   "outputs": [
    {
     "name": "stdout",
     "output_type": "stream",
     "text": [
      "Mean Absolute Error: 0.08667858259545877\n",
      "Mean Squared Error: 0.012865569438396191\n",
      "Root Mean Squared Error: 0.11342649354712589\n"
     ]
    }
   ],
   "source": [
    "from sklearn import metrics\n",
    "print('Mean Absolute Error:', metrics.mean_absolute_error(y_test, y_pred))  \n",
    "print('Mean Squared Error:', metrics.mean_squared_error(y_test, y_pred))  \n",
    "print('Root Mean Squared Error:', np.sqrt(metrics.mean_squared_error(y_test, y_pred)))"
   ]
  },
  {
   "cell_type": "code",
   "execution_count": null,
   "metadata": {},
   "outputs": [],
   "source": []
  }
 ],
 "metadata": {
  "kernelspec": {
   "display_name": "Python 3",
   "language": "python",
   "name": "python3"
  },
  "language_info": {
   "codemirror_mode": {
    "name": "ipython",
    "version": 3
   },
   "file_extension": ".py",
   "mimetype": "text/x-python",
   "name": "python",
   "nbconvert_exporter": "python",
   "pygments_lexer": "ipython3",
   "version": "3.6.9"
  }
 },
 "nbformat": 4,
 "nbformat_minor": 2
}
