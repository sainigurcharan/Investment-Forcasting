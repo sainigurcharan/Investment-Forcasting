{
 "cells": [
  {
   "cell_type": "code",
<<<<<<< Updated upstream
   "execution_count": 3,
=======
   "execution_count": 40,
>>>>>>> Stashed changes
   "metadata": {},
   "outputs": [],
   "source": [
    "import pandas as pd \n",
    "import numpy as np \n",
    "import matplotlib.pyplot as plt\n",
    "import seaborn as sns\n",
    "%matplotlib inline"
   ]
  },
  {
   "cell_type": "code",
<<<<<<< Updated upstream
   "execution_count": 4,
=======
   "execution_count": 2,
>>>>>>> Stashed changes
   "metadata": {},
   "outputs": [
    {
     "data": {
      "text/html": [
       "<div>\n",
       "<style scoped>\n",
       "    .dataframe tbody tr th:only-of-type {\n",
       "        vertical-align: middle;\n",
       "    }\n",
       "\n",
       "    .dataframe tbody tr th {\n",
       "        vertical-align: top;\n",
       "    }\n",
       "\n",
       "    .dataframe thead th {\n",
       "        text-align: right;\n",
       "    }\n",
       "</style>\n",
       "<table border=\"1\" class=\"dataframe\">\n",
       "  <thead>\n",
       "    <tr style=\"text-align: right;\">\n",
       "      <th></th>\n",
       "      <th>Date</th>\n",
       "      <th>XLF</th>\n",
       "      <th>XLK</th>\n",
       "      <th>XLI</th>\n",
       "      <th>HY</th>\n",
       "      <th>XLY</th>\n",
       "      <th>XLU</th>\n",
       "      <th>XLP</th>\n",
       "      <th>SPY</th>\n",
       "      <th>VBMFX</th>\n",
       "      <th>Target_FR12Mts</th>\n",
       "    </tr>\n",
       "  </thead>\n",
       "  <tbody>\n",
       "    <tr>\n",
       "      <th>0</th>\n",
       "      <td>12/1/1998</td>\n",
       "      <td>19.039398</td>\n",
       "      <td>32.62500</td>\n",
       "      <td>24.562500</td>\n",
       "      <td>6.44</td>\n",
       "      <td>26.125000</td>\n",
       "      <td>30.234375</td>\n",
       "      <td>27.156250</td>\n",
       "      <td>123.31250</td>\n",
       "      <td>10.27</td>\n",
       "      <td>0.19</td>\n",
       "    </tr>\n",
       "    <tr>\n",
       "      <th>1</th>\n",
       "      <td>1/1/1999</td>\n",
       "      <td>19.369415</td>\n",
       "      <td>37.81250</td>\n",
       "      <td>24.296875</td>\n",
       "      <td>6.52</td>\n",
       "      <td>27.468750</td>\n",
       "      <td>29.484375</td>\n",
       "      <td>26.796875</td>\n",
       "      <td>127.65625</td>\n",
       "      <td>10.30</td>\n",
       "      <td>0.09</td>\n",
       "    </tr>\n",
       "    <tr>\n",
       "      <th>2</th>\n",
       "      <td>2/1/1999</td>\n",
       "      <td>19.674046</td>\n",
       "      <td>34.06250</td>\n",
       "      <td>24.515625</td>\n",
       "      <td>6.46</td>\n",
       "      <td>27.296875</td>\n",
       "      <td>28.671875</td>\n",
       "      <td>26.515625</td>\n",
       "      <td>123.56250</td>\n",
       "      <td>10.07</td>\n",
       "      <td>0.11</td>\n",
       "    </tr>\n",
       "    <tr>\n",
       "      <th>3</th>\n",
       "      <td>3/1/1999</td>\n",
       "      <td>20.257921</td>\n",
       "      <td>36.59375</td>\n",
       "      <td>24.937500</td>\n",
       "      <td>6.57</td>\n",
       "      <td>28.593750</td>\n",
       "      <td>26.687500</td>\n",
       "      <td>26.437500</td>\n",
       "      <td>128.37500</td>\n",
       "      <td>10.06</td>\n",
       "      <td>0.17</td>\n",
       "    </tr>\n",
       "    <tr>\n",
       "      <th>4</th>\n",
       "      <td>4/1/1999</td>\n",
       "      <td>21.679529</td>\n",
       "      <td>36.81250</td>\n",
       "      <td>28.687500</td>\n",
       "      <td>6.80</td>\n",
       "      <td>29.343750</td>\n",
       "      <td>29.265625</td>\n",
       "      <td>25.515625</td>\n",
       "      <td>133.25000</td>\n",
       "      <td>10.05</td>\n",
       "      <td>0.09</td>\n",
       "    </tr>\n",
       "  </tbody>\n",
       "</table>\n",
       "</div>"
      ],
      "text/plain": [
       "        Date        XLF       XLK        XLI    HY        XLY        XLU  \\\n",
       "0  12/1/1998  19.039398  32.62500  24.562500  6.44  26.125000  30.234375   \n",
       "1   1/1/1999  19.369415  37.81250  24.296875  6.52  27.468750  29.484375   \n",
       "2   2/1/1999  19.674046  34.06250  24.515625  6.46  27.296875  28.671875   \n",
       "3   3/1/1999  20.257921  36.59375  24.937500  6.57  28.593750  26.687500   \n",
       "4   4/1/1999  21.679529  36.81250  28.687500  6.80  29.343750  29.265625   \n",
       "\n",
       "         XLP        SPY  VBMFX  Target_FR12Mts  \n",
       "0  27.156250  123.31250  10.27            0.19  \n",
       "1  26.796875  127.65625  10.30            0.09  \n",
       "2  26.515625  123.56250  10.07            0.11  \n",
       "3  26.437500  128.37500  10.06            0.17  \n",
       "4  25.515625  133.25000  10.05            0.09  "
      ]
     },
<<<<<<< Updated upstream
     "execution_count": 4,
=======
     "execution_count": 2,
>>>>>>> Stashed changes
     "metadata": {},
     "output_type": "execute_result"
    }
   ],
   "source": [
    "dataset = pd.read_csv('data/DataForClustering.csv')\n",
    "dataset.head()"
   ]
  },
  {
   "cell_type": "code",
<<<<<<< Updated upstream
   "execution_count": 5,
=======
   "execution_count": 17,
>>>>>>> Stashed changes
   "metadata": {},
   "outputs": [
    {
     "data": {
      "text/html": [
       "<div>\n",
       "<style scoped>\n",
       "    .dataframe tbody tr th:only-of-type {\n",
       "        vertical-align: middle;\n",
       "    }\n",
       "\n",
       "    .dataframe tbody tr th {\n",
       "        vertical-align: top;\n",
       "    }\n",
       "\n",
       "    .dataframe thead th {\n",
       "        text-align: right;\n",
       "    }\n",
       "</style>\n",
       "<table border=\"1\" class=\"dataframe\">\n",
       "  <thead>\n",
       "    <tr style=\"text-align: right;\">\n",
       "      <th></th>\n",
       "      <th>Date</th>\n",
       "      <th>XLF</th>\n",
       "      <th>XLK</th>\n",
       "      <th>XLI</th>\n",
       "      <th>HY</th>\n",
       "      <th>XLY</th>\n",
       "      <th>XLU</th>\n",
       "      <th>XLP</th>\n",
       "      <th>SPY</th>\n",
       "      <th>VBMFX</th>\n",
       "      <th>Target_FR12Mts</th>\n",
       "      <th>label</th>\n",
       "    </tr>\n",
       "  </thead>\n",
       "  <tbody>\n",
       "    <tr>\n",
       "      <th>0</th>\n",
       "      <td>12/1/1998</td>\n",
       "      <td>19.039398</td>\n",
       "      <td>32.62500</td>\n",
       "      <td>24.562500</td>\n",
       "      <td>6.44</td>\n",
       "      <td>26.125000</td>\n",
       "      <td>30.234375</td>\n",
       "      <td>27.156250</td>\n",
       "      <td>123.31250</td>\n",
       "      <td>10.27</td>\n",
       "      <td>0.19</td>\n",
       "      <td>0</td>\n",
       "    </tr>\n",
       "    <tr>\n",
       "      <th>1</th>\n",
       "      <td>1/1/1999</td>\n",
       "      <td>19.369415</td>\n",
       "      <td>37.81250</td>\n",
       "      <td>24.296875</td>\n",
       "      <td>6.52</td>\n",
       "      <td>27.468750</td>\n",
       "      <td>29.484375</td>\n",
       "      <td>26.796875</td>\n",
       "      <td>127.65625</td>\n",
       "      <td>10.30</td>\n",
       "      <td>0.09</td>\n",
       "      <td>0</td>\n",
       "    </tr>\n",
       "    <tr>\n",
       "      <th>2</th>\n",
       "      <td>2/1/1999</td>\n",
       "      <td>19.674046</td>\n",
       "      <td>34.06250</td>\n",
       "      <td>24.515625</td>\n",
       "      <td>6.46</td>\n",
       "      <td>27.296875</td>\n",
       "      <td>28.671875</td>\n",
       "      <td>26.515625</td>\n",
       "      <td>123.56250</td>\n",
       "      <td>10.07</td>\n",
       "      <td>0.11</td>\n",
       "      <td>0</td>\n",
       "    </tr>\n",
       "    <tr>\n",
       "      <th>3</th>\n",
       "      <td>3/1/1999</td>\n",
       "      <td>20.257921</td>\n",
       "      <td>36.59375</td>\n",
       "      <td>24.937500</td>\n",
       "      <td>6.57</td>\n",
       "      <td>28.593750</td>\n",
       "      <td>26.687500</td>\n",
       "      <td>26.437500</td>\n",
       "      <td>128.37500</td>\n",
       "      <td>10.06</td>\n",
       "      <td>0.17</td>\n",
       "      <td>0</td>\n",
       "    </tr>\n",
       "    <tr>\n",
       "      <th>4</th>\n",
       "      <td>4/1/1999</td>\n",
       "      <td>21.679529</td>\n",
       "      <td>36.81250</td>\n",
       "      <td>28.687500</td>\n",
       "      <td>6.80</td>\n",
       "      <td>29.343750</td>\n",
       "      <td>29.265625</td>\n",
       "      <td>25.515625</td>\n",
       "      <td>133.25000</td>\n",
       "      <td>10.05</td>\n",
       "      <td>0.09</td>\n",
       "      <td>0</td>\n",
       "    </tr>\n",
       "  </tbody>\n",
       "</table>\n",
       "</div>"
      ],
      "text/plain": [
       "        Date        XLF       XLK        XLI    HY        XLY        XLU  \\\n",
       "0  12/1/1998  19.039398  32.62500  24.562500  6.44  26.125000  30.234375   \n",
       "1   1/1/1999  19.369415  37.81250  24.296875  6.52  27.468750  29.484375   \n",
       "2   2/1/1999  19.674046  34.06250  24.515625  6.46  27.296875  28.671875   \n",
       "3   3/1/1999  20.257921  36.59375  24.937500  6.57  28.593750  26.687500   \n",
       "4   4/1/1999  21.679529  36.81250  28.687500  6.80  29.343750  29.265625   \n",
       "\n",
       "         XLP        SPY  VBMFX  Target_FR12Mts  label  \n",
       "0  27.156250  123.31250  10.27            0.19      0  \n",
       "1  26.796875  127.65625  10.30            0.09      0  \n",
       "2  26.515625  123.56250  10.07            0.11      0  \n",
       "3  26.437500  128.37500  10.06            0.17      0  \n",
       "4  25.515625  133.25000  10.05            0.09      0  "
      ]
     },
<<<<<<< Updated upstream
     "execution_count": 5,
=======
     "execution_count": 17,
>>>>>>> Stashed changes
     "metadata": {},
     "output_type": "execute_result"
    }
   ],
   "source": [
    "dataset['label'] = np.where(dataset['Target_FR12Mts'] < 0, 1, 0)\n",
    "dataset.head()"
   ]
  },
  {
   "cell_type": "code",
<<<<<<< Updated upstream
   "execution_count": 6,
=======
   "execution_count": 30,
>>>>>>> Stashed changes
   "metadata": {},
   "outputs": [],
   "source": [
    "feature_columns = ['XLF', 'XLK', 'XLI', 'HY', 'XLY', 'XLU', 'XLP', 'SPY', 'VBMFX']\n",
    "X = dataset[feature_columns]"
   ]
  },
  {
   "cell_type": "code",
<<<<<<< Updated upstream
   "execution_count": 7,
=======
   "execution_count": 31,
>>>>>>> Stashed changes
   "metadata": {},
   "outputs": [],
   "source": [
    "y = dataset.label"
   ]
  },
  {
   "cell_type": "code",
<<<<<<< Updated upstream
   "execution_count": 8,
=======
   "execution_count": 32,
>>>>>>> Stashed changes
   "metadata": {},
   "outputs": [
    {
     "name": "stdout",
     "output_type": "stream",
     "text": [
      "(241, 9) (241,)\n"
     ]
    }
   ],
   "source": [
    "print(X.shape, y.shape)"
   ]
  },
  {
   "cell_type": "code",
<<<<<<< Updated upstream
   "execution_count": 9,
=======
   "execution_count": 33,
>>>>>>> Stashed changes
   "metadata": {},
   "outputs": [],
   "source": [
    "from sklearn.model_selection import train_test_split\n",
    "\n",
    "X_train, X_test, y_train, y_test = train_test_split(X, y, test_size = 0.30, random_state=42)"
   ]
  },
  {
   "cell_type": "code",
<<<<<<< Updated upstream
   "execution_count": 10,
=======
   "execution_count": 34,
>>>>>>> Stashed changes
   "metadata": {},
   "outputs": [
    {
     "name": "stderr",
     "output_type": "stream",
     "text": [
      "C:\\ProgramData\\Anaconda3\\lib\\site-packages\\sklearn\\linear_model\\logistic.py:433: FutureWarning: Default solver will be changed to 'lbfgs' in 0.22. Specify a solver to silence this warning.\n",
      "  FutureWarning)\n"
     ]
    },
    {
     "data": {
      "text/plain": [
       "LogisticRegression(C=1.0, class_weight=None, dual=False, fit_intercept=True,\n",
       "          intercept_scaling=1, max_iter=100, multi_class='warn',\n",
       "          n_jobs=None, penalty='l2', random_state=0, solver='warn',\n",
       "          tol=0.0001, verbose=0, warm_start=False)"
      ]
     },
<<<<<<< Updated upstream
     "execution_count": 10,
=======
     "execution_count": 34,
>>>>>>> Stashed changes
     "metadata": {},
     "output_type": "execute_result"
    }
   ],
   "source": [
    "from sklearn.linear_model import LogisticRegression\n",
    "\n",
    "classifier = LogisticRegression(random_state = 0)\n",
    "classifier.fit(X_train, y_train)"
   ]
  },
  {
   "cell_type": "code",
<<<<<<< Updated upstream
   "execution_count": 11,
=======
   "execution_count": 35,
>>>>>>> Stashed changes
   "metadata": {},
   "outputs": [
    {
     "name": "stdout",
     "output_type": "stream",
     "text": [
      "Training Score: 0.8630952380952381\n"
     ]
    }
   ],
   "source": [
    "training_score = classifier.score(X_train, y_train)\n",
    "print(f\"Training Score: {training_score}\")"
   ]
  },
  {
   "cell_type": "code",
<<<<<<< Updated upstream
   "execution_count": 12,
=======
   "execution_count": 36,
>>>>>>> Stashed changes
   "metadata": {},
   "outputs": [],
   "source": [
    "y_pred = classifier.predict(X_test)"
   ]
  },
  {
   "cell_type": "code",
<<<<<<< Updated upstream
   "execution_count": 13,
=======
   "execution_count": 37,
>>>>>>> Stashed changes
   "metadata": {},
   "outputs": [
    {
     "name": "stdout",
     "output_type": "stream",
     "text": [
      "Confusion Matrix : \n",
      " [[47  3]\n",
      " [ 7 16]]\n"
     ]
    }
   ],
   "source": [
    "from sklearn.metrics import confusion_matrix \n",
    "cm = confusion_matrix(y_test, y_pred) \n",
    "\n",
    "print (\"Confusion Matrix : \\n\", cm)"
   ]
  },
  {
   "cell_type": "code",
<<<<<<< Updated upstream
   "execution_count": 14,
=======
   "execution_count": 39,
>>>>>>> Stashed changes
   "metadata": {},
   "outputs": [
    {
     "name": "stdout",
     "output_type": "stream",
     "text": [
      "Testing Score: 0.863013698630137\n"
     ]
    }
   ],
   "source": [
    "testing_score = classifier.score(X_test, y_test)\n",
    "print(f\"Testing Score: {testing_score}\")"
   ]
  },
  {
   "cell_type": "code",
<<<<<<< Updated upstream
   "execution_count": 15,
=======
   "execution_count": 41,
>>>>>>> Stashed changes
   "metadata": {},
   "outputs": [
    {
     "data": {
      "text/plain": [
       "Text(0.5, 257.44, 'Predicted label')"
      ]
     },
<<<<<<< Updated upstream
     "execution_count": 15,
=======
     "execution_count": 41,
>>>>>>> Stashed changes
     "metadata": {},
     "output_type": "execute_result"
    },
    {
     "data": {
      "image/png": "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\n",
      "text/plain": [
       "<Figure size 432x288 with 2 Axes>"
      ]
     },
     "metadata": {
      "needs_background": "light"
     },
     "output_type": "display_data"
    }
   ],
   "source": [
    "class_names=[0,1] # name  of classes\n",
    "fig, ax = plt.subplots()\n",
    "tick_marks = np.arange(len(class_names))\n",
    "plt.xticks(tick_marks, class_names)\n",
    "plt.yticks(tick_marks, class_names)\n",
    "# create heatmap\n",
    "sns.heatmap(pd.DataFrame(cm), annot=True, cmap=\"YlGnBu\" ,fmt='g')\n",
    "ax.xaxis.set_label_position(\"top\")\n",
    "plt.tight_layout()\n",
    "plt.title('Confusion matrix', y=1.1)\n",
    "plt.ylabel('Actual label')\n",
    "plt.xlabel('Predicted label')"
   ]
  },
  {
   "cell_type": "code",
<<<<<<< Updated upstream
   "execution_count": 16,
=======
   "execution_count": 44,
>>>>>>> Stashed changes
   "metadata": {},
   "outputs": [
    {
     "name": "stdout",
     "output_type": "stream",
     "text": [
      "Accuracy: 0.863013698630137\n",
      "Precision: 0.8421052631578947\n",
      "Recall: 0.6956521739130435\n"
     ]
    }
   ],
   "source": [
    "from sklearn import metrics\n",
    "print(\"Accuracy:\", metrics.accuracy_score(y_test, y_pred))\n",
    "print(\"Precision:\", metrics.precision_score(y_test, y_pred))\n",
    "print(\"Recall:\", metrics.recall_score(y_test, y_pred))"
   ]
  },
  {
   "cell_type": "code",
<<<<<<< Updated upstream
   "execution_count": 17,
=======
   "execution_count": 45,
>>>>>>> Stashed changes
   "metadata": {},
   "outputs": [],
   "source": [
    "# Precision: Precision is about being precise, i.e., how accurate your model is.\n",
    "# In other words, you can say, when a model makes a prediction, how often it is correct.\n",
    "# In your prediction case, when Logistic Regression model predicted how index is going\n",
    "# to be low and high, that is 84% of the time.\n",
    "\n",
    "# Recall: If there are stock which has index low or high in the test set and your Logistic Regression\n",
    "# model can identify it 69% of the time.\n",
    "\n",
    "# ROC Curve\n",
    "# Receiver Operating Characteristic(ROC) curve is a plot of the true positive rate against the\n",
    "# false positive rate. It shows the tradeoff between sensitivity and specificity."
   ]
  },
  {
   "cell_type": "code",
<<<<<<< Updated upstream
   "execution_count": 18,
=======
   "execution_count": 46,
>>>>>>> Stashed changes
   "metadata": {},
   "outputs": [
    {
     "data": {
      "image/png": "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\n",
      "text/plain": [
       "<Figure size 432x288 with 1 Axes>"
      ]
     },
     "metadata": {
      "needs_background": "light"
     },
     "output_type": "display_data"
    }
   ],
   "source": [
    "y_pred_proba = classifier.predict_proba(X_test)[::,1]\n",
    "fpr, tpr, _ = metrics.roc_curve(y_test,  y_pred_proba)\n",
    "auc = metrics.roc_auc_score(y_test, y_pred_proba)\n",
    "plt.plot(fpr, tpr, label=\"data 1, auc=\"+str(auc))\n",
    "plt.legend(loc=4)\n",
    "plt.show()"
   ]
  },
  {
   "cell_type": "code",
<<<<<<< Updated upstream
   "execution_count": 19,
=======
   "execution_count": null,
>>>>>>> Stashed changes
   "metadata": {},
   "outputs": [],
   "source": [
    "# AUC score for the case is 0.92. AUC score 1 represents perfect classifier,\n",
    "# and 0.5 represents a worthless classifier."
   ]
  }
 ],
 "metadata": {
  "kernelspec": {
   "display_name": "Python 3",
   "language": "python",
   "name": "python3"
  },
  "language_info": {
   "codemirror_mode": {
    "name": "ipython",
    "version": 3
   },
   "file_extension": ".py",
   "mimetype": "text/x-python",
   "name": "python",
   "nbconvert_exporter": "python",
   "pygments_lexer": "ipython3",
<<<<<<< Updated upstream
   "version": "3.7.3"
=======
   "version": "3.6.9"
>>>>>>> Stashed changes
  }
 },
 "nbformat": 4,
 "nbformat_minor": 2
}
