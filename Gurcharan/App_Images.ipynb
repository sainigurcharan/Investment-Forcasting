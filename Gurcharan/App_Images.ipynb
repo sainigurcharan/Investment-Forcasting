{
 "cells": [
  {
   "cell_type": "code",
   "execution_count": null,
   "metadata": {},
   "outputs": [],
   "source": [
    "import pandas as pd \n",
    "import matplotlib.pyplot as plt\n",
    "import seaborn as sns\n",
    "import matplotlib.style as style\n",
    "style.use('fivethirtyeight')\n",
    "%matplotlib inline"
   ]
  },
  {
   "cell_type": "code",
   "execution_count": null,
   "metadata": {},
   "outputs": [],
   "source": [
    "df = pd.read_excel('data/RF_GS_UP_HistoricalResults.xlsx')\n",
    "plt.figure(figsize=(30,20))\n",
    "plt.tight_layout()\n",
    "snsPlot = sns.regplot(x=df[\"Prob\"], y=df[\"Target_FR12Mts\"], fit_reg=False, scatter_kws={\"color\":\"green\",\"alpha\":0.3,\"s\":200})\n",
    "plt.xlabel('Predicted Probability', fontsize=35)\n",
    "plt.ylabel('12 Month Returns', fontsize=35)\n",
    "plt.title('Random Forest Grid Search - UP Predictions', fontsize=40)\n",
    "plt.xticks(fontsize=25)\n",
    "plt.yticks(fontsize=25)\n",
    "\n",
    "fig = snsPlot.get_figure()\n",
    "fig.savefig('../Final_App/static/img/portfolio/RFGS1.jpg')"
   ]
  },
  {
   "cell_type": "code",
   "execution_count": null,
   "metadata": {},
   "outputs": [],
   "source": [
    "df = pd.read_excel('data/RF_GS_DOWN_HistoricalResults.xlsx')\n",
    "plt.figure(figsize=(30,20))\n",
    "plt.tight_layout()\n",
    "snsPlot = sns.regplot(x=df[\"Prob\"], y=df[\"Target_FR12Mts\"], fit_reg=False, scatter_kws={\"color\":\"green\",\"alpha\":0.3,\"s\":200})\n",
    "plt.xlabel('Predicted Probability', fontsize=35)\n",
    "plt.ylabel('12 Month Returns', fontsize=35)\n",
    "plt.title('Random Forest Grid Search - DOWN Predictions', fontsize=40)\n",
    "plt.xticks(fontsize=25)\n",
    "plt.yticks(fontsize=25)\n",
    "\n",
    "fig = snsPlot.get_figure()\n",
    "fig.savefig('../Final_App/static/img/portfolio/RFGS2.jpg')"
   ]
  },
  {
   "cell_type": "code",
   "execution_count": null,
   "metadata": {},
   "outputs": [],
   "source": [
    "df = pd.read_excel('data/RF_BRC_UP_HistoricalResults.xlsx')\n",
    "plt.figure(figsize=(30,20))\n",
    "plt.tight_layout()\n",
    "snsPlot = sns.regplot(x=df[\"Prob\"], y=df[\"Target_FR12Mts\"], fit_reg=False, scatter_kws={\"color\":\"green\",\"alpha\":0.3,\"s\":200})\n",
    "plt.xlabel('Predicted Probability', fontsize=35)\n",
    "plt.ylabel('12 Month Returns', fontsize=35)\n",
    "plt.title('Random Forest Classification - UP Predictions', fontsize=40)\n",
    "plt.xticks(fontsize=25)\n",
    "plt.yticks(fontsize=25)\n",
    "\n",
    "fig = snsPlot.get_figure()\n",
    "fig.savefig('../Final_App/static/img/portfolio/RFC1.jpg')"
   ]
  },
  {
   "cell_type": "code",
   "execution_count": null,
   "metadata": {},
   "outputs": [],
   "source": [
    "df = pd.read_excel('data/RF_BRC_DOWN_HistoricalResults.xlsx')\n",
    "plt.figure(figsize=(30,20))\n",
    "plt.tight_layout()\n",
    "snsPlot = sns.regplot(x=df[\"Prob\"], y=df[\"Target_FR12Mts\"], fit_reg=False, scatter_kws={\"color\":\"green\",\"alpha\":0.3,\"s\":200})\n",
    "plt.xlabel('Predicted Probability', fontsize=35)\n",
    "plt.ylabel('12 Month Returns', fontsize=35)\n",
    "plt.title('Random Forest Classification - DOWN Predictions', fontsize=40)\n",
    "plt.xticks(fontsize=25)\n",
    "plt.yticks(fontsize=25)\n",
    "\n",
    "fig = snsPlot.get_figure()\n",
    "fig.savefig('../Final_App/static/img/portfolio/RFC2.jpg')"
   ]
  },
  {
   "cell_type": "code",
   "execution_count": null,
   "metadata": {},
   "outputs": [],
   "source": [
    "df = pd.read_excel('data/LR_UP_HistoricalResults.xlsx')\n",
    "plt.figure(figsize=(30,20))\n",
    "plt.tight_layout()\n",
    "snsPlot = sns.regplot(x=df[\"Prob\"], y=df[\"Target_FR12Mts\"], fit_reg=False, scatter_kws={\"color\":\"green\",\"alpha\":0.3,\"s\":200})\n",
    "plt.xlabel('Predicted Probability', fontsize=35)\n",
    "plt.ylabel('12 Month Returns', fontsize=35)\n",
    "plt.title('Logistic Regression - UP Predictions', fontsize=40)\n",
    "plt.xticks(fontsize=25)\n",
    "plt.yticks(fontsize=25)\n",
    "\n",
    "fig = snsPlot.get_figure()\n",
    "fig.savefig('../static/img/portfolio/LR1.jpg')"
   ]
  },
  {
   "cell_type": "code",
   "execution_count": null,
   "metadata": {},
   "outputs": [],
   "source": [
    "df = pd.read_excel('data/LR_DOWN_HistoricalResults.xlsx')\n",
    "plt.figure(figsize=(30,20))\n",
    "plt.tight_layout()\n",
    "snsPlot = sns.regplot(x=df[\"Prob\"], y=df[\"Target_FR12Mts\"], fit_reg=False, scatter_kws={\"color\":\"green\",\"alpha\":0.3,\"s\":200})\n",
    "plt.xlabel('Predicted Probability', fontsize=35)\n",
    "plt.ylabel('12 Month Returns', fontsize=35)\n",
    "plt.title('Logistic Regression - UP Predictions', fontsize=40)\n",
    "plt.xticks(fontsize=25)\n",
    "plt.yticks(fontsize=25)\n",
    "\n",
    "fig = snsPlot.get_figure()\n",
    "fig.savefig('../Final_App/static/img/portfolio/LR2.jpg')"
   ]
  },
  {
   "cell_type": "code",
   "execution_count": null,
   "metadata": {},
   "outputs": [],
   "source": []
  }
 ],
 "metadata": {
  "kernelspec": {
   "display_name": "Python 3",
   "language": "python",
   "name": "python3"
  },
  "language_info": {
   "codemirror_mode": {
    "name": "ipython",
    "version": 3
   },
   "file_extension": ".py",
   "mimetype": "text/x-python",
   "name": "python",
   "nbconvert_exporter": "python",
   "pygments_lexer": "ipython3",
   "version": "3.7.3"
  }
 },
 "nbformat": 4,
 "nbformat_minor": 2
}
