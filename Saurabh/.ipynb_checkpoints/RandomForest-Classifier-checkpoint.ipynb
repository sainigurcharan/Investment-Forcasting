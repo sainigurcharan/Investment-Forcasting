{
 "cells": [
  {
   "cell_type": "code",
   "execution_count": 7,
   "metadata": {},
   "outputs": [
    {
     "data": {
      "text/html": [
       "<div>\n",
       "<style scoped>\n",
       "    .dataframe tbody tr th:only-of-type {\n",
       "        vertical-align: middle;\n",
       "    }\n",
       "\n",
       "    .dataframe tbody tr th {\n",
       "        vertical-align: top;\n",
       "    }\n",
       "\n",
       "    .dataframe thead th {\n",
       "        text-align: right;\n",
       "    }\n",
       "</style>\n",
       "<table border=\"1\" class=\"dataframe\">\n",
       "  <thead>\n",
       "    <tr style=\"text-align: right;\">\n",
       "      <th></th>\n",
       "      <th>Date</th>\n",
       "      <th>XLF</th>\n",
       "      <th>XLK</th>\n",
       "      <th>XLI</th>\n",
       "      <th>HY</th>\n",
       "      <th>XLY</th>\n",
       "      <th>XLU</th>\n",
       "      <th>XLP</th>\n",
       "      <th>SPY</th>\n",
       "      <th>VBMFX</th>\n",
       "      <th>Target_FR12Mts</th>\n",
       "    </tr>\n",
       "  </thead>\n",
       "  <tbody>\n",
       "    <tr>\n",
       "      <th>0</th>\n",
       "      <td>12/1/1998</td>\n",
       "      <td>19.039398</td>\n",
       "      <td>32.62500</td>\n",
       "      <td>24.562500</td>\n",
       "      <td>6.44</td>\n",
       "      <td>26.125000</td>\n",
       "      <td>30.234375</td>\n",
       "      <td>27.156250</td>\n",
       "      <td>123.31250</td>\n",
       "      <td>10.27</td>\n",
       "      <td>0.19</td>\n",
       "    </tr>\n",
       "    <tr>\n",
       "      <th>1</th>\n",
       "      <td>1/1/1999</td>\n",
       "      <td>19.369415</td>\n",
       "      <td>37.81250</td>\n",
       "      <td>24.296875</td>\n",
       "      <td>6.52</td>\n",
       "      <td>27.468750</td>\n",
       "      <td>29.484375</td>\n",
       "      <td>26.796875</td>\n",
       "      <td>127.65625</td>\n",
       "      <td>10.30</td>\n",
       "      <td>0.09</td>\n",
       "    </tr>\n",
       "    <tr>\n",
       "      <th>2</th>\n",
       "      <td>2/1/1999</td>\n",
       "      <td>19.674046</td>\n",
       "      <td>34.06250</td>\n",
       "      <td>24.515625</td>\n",
       "      <td>6.46</td>\n",
       "      <td>27.296875</td>\n",
       "      <td>28.671875</td>\n",
       "      <td>26.515625</td>\n",
       "      <td>123.56250</td>\n",
       "      <td>10.07</td>\n",
       "      <td>0.11</td>\n",
       "    </tr>\n",
       "    <tr>\n",
       "      <th>3</th>\n",
       "      <td>3/1/1999</td>\n",
       "      <td>20.257921</td>\n",
       "      <td>36.59375</td>\n",
       "      <td>24.937500</td>\n",
       "      <td>6.57</td>\n",
       "      <td>28.593750</td>\n",
       "      <td>26.687500</td>\n",
       "      <td>26.437500</td>\n",
       "      <td>128.37500</td>\n",
       "      <td>10.06</td>\n",
       "      <td>0.17</td>\n",
       "    </tr>\n",
       "    <tr>\n",
       "      <th>4</th>\n",
       "      <td>4/1/1999</td>\n",
       "      <td>21.679529</td>\n",
       "      <td>36.81250</td>\n",
       "      <td>28.687500</td>\n",
       "      <td>6.80</td>\n",
       "      <td>29.343750</td>\n",
       "      <td>29.265625</td>\n",
       "      <td>25.515625</td>\n",
       "      <td>133.25000</td>\n",
       "      <td>10.05</td>\n",
       "      <td>0.09</td>\n",
       "    </tr>\n",
       "  </tbody>\n",
       "</table>\n",
       "</div>"
      ],
      "text/plain": [
       "        Date        XLF       XLK        XLI    HY        XLY        XLU  \\\n",
       "0  12/1/1998  19.039398  32.62500  24.562500  6.44  26.125000  30.234375   \n",
       "1   1/1/1999  19.369415  37.81250  24.296875  6.52  27.468750  29.484375   \n",
       "2   2/1/1999  19.674046  34.06250  24.515625  6.46  27.296875  28.671875   \n",
       "3   3/1/1999  20.257921  36.59375  24.937500  6.57  28.593750  26.687500   \n",
       "4   4/1/1999  21.679529  36.81250  28.687500  6.80  29.343750  29.265625   \n",
       "\n",
       "         XLP        SPY  VBMFX  Target_FR12Mts  \n",
       "0  27.156250  123.31250  10.27            0.19  \n",
       "1  26.796875  127.65625  10.30            0.09  \n",
       "2  26.515625  123.56250  10.07            0.11  \n",
       "3  26.437500  128.37500  10.06            0.17  \n",
       "4  25.515625  133.25000  10.05            0.09  "
      ]
     },
     "execution_count": 7,
     "metadata": {},
     "output_type": "execute_result"
    }
   ],
   "source": [
    "# Pandas is used for data manipulation\n",
    "import pandas as pd\n",
    "import numpy as np \n",
    "import matplotlib.pyplot as plt\n",
    "import seaborn as sns\n",
    "%matplotlib inline\n",
    "\n",
    "# Read in data as pandas dataframe and display first 5 rows\n",
    "features = pd.read_csv('../Aalok/DataForClustering.csv')\n",
    "features.head(5)"
   ]
  },
  {
   "cell_type": "code",
   "execution_count": 13,
   "metadata": {},
   "outputs": [
    {
     "data": {
      "text/html": [
       "<div>\n",
       "<style scoped>\n",
       "    .dataframe tbody tr th:only-of-type {\n",
       "        vertical-align: middle;\n",
       "    }\n",
       "\n",
       "    .dataframe tbody tr th {\n",
       "        vertical-align: top;\n",
       "    }\n",
       "\n",
       "    .dataframe thead th {\n",
       "        text-align: right;\n",
       "    }\n",
       "</style>\n",
       "<table border=\"1\" class=\"dataframe\">\n",
       "  <thead>\n",
       "    <tr style=\"text-align: right;\">\n",
       "      <th></th>\n",
       "      <th>Date</th>\n",
       "      <th>XLF</th>\n",
       "      <th>XLK</th>\n",
       "      <th>XLI</th>\n",
       "      <th>HY</th>\n",
       "      <th>XLY</th>\n",
       "      <th>XLU</th>\n",
       "      <th>XLP</th>\n",
       "      <th>SPY</th>\n",
       "      <th>VBMFX</th>\n",
       "      <th>Target_FR12Mts</th>\n",
       "      <th>label</th>\n",
       "    </tr>\n",
       "  </thead>\n",
       "  <tbody>\n",
       "    <tr>\n",
       "      <th>0</th>\n",
       "      <td>12/1/1998</td>\n",
       "      <td>19.039398</td>\n",
       "      <td>32.62500</td>\n",
       "      <td>24.562500</td>\n",
       "      <td>6.44</td>\n",
       "      <td>26.125000</td>\n",
       "      <td>30.234375</td>\n",
       "      <td>27.156250</td>\n",
       "      <td>123.31250</td>\n",
       "      <td>10.27</td>\n",
       "      <td>0.19</td>\n",
       "      <td>0</td>\n",
       "    </tr>\n",
       "    <tr>\n",
       "      <th>1</th>\n",
       "      <td>1/1/1999</td>\n",
       "      <td>19.369415</td>\n",
       "      <td>37.81250</td>\n",
       "      <td>24.296875</td>\n",
       "      <td>6.52</td>\n",
       "      <td>27.468750</td>\n",
       "      <td>29.484375</td>\n",
       "      <td>26.796875</td>\n",
       "      <td>127.65625</td>\n",
       "      <td>10.30</td>\n",
       "      <td>0.09</td>\n",
       "      <td>0</td>\n",
       "    </tr>\n",
       "    <tr>\n",
       "      <th>2</th>\n",
       "      <td>2/1/1999</td>\n",
       "      <td>19.674046</td>\n",
       "      <td>34.06250</td>\n",
       "      <td>24.515625</td>\n",
       "      <td>6.46</td>\n",
       "      <td>27.296875</td>\n",
       "      <td>28.671875</td>\n",
       "      <td>26.515625</td>\n",
       "      <td>123.56250</td>\n",
       "      <td>10.07</td>\n",
       "      <td>0.11</td>\n",
       "      <td>0</td>\n",
       "    </tr>\n",
       "    <tr>\n",
       "      <th>3</th>\n",
       "      <td>3/1/1999</td>\n",
       "      <td>20.257921</td>\n",
       "      <td>36.59375</td>\n",
       "      <td>24.937500</td>\n",
       "      <td>6.57</td>\n",
       "      <td>28.593750</td>\n",
       "      <td>26.687500</td>\n",
       "      <td>26.437500</td>\n",
       "      <td>128.37500</td>\n",
       "      <td>10.06</td>\n",
       "      <td>0.17</td>\n",
       "      <td>0</td>\n",
       "    </tr>\n",
       "    <tr>\n",
       "      <th>4</th>\n",
       "      <td>4/1/1999</td>\n",
       "      <td>21.679529</td>\n",
       "      <td>36.81250</td>\n",
       "      <td>28.687500</td>\n",
       "      <td>6.80</td>\n",
       "      <td>29.343750</td>\n",
       "      <td>29.265625</td>\n",
       "      <td>25.515625</td>\n",
       "      <td>133.25000</td>\n",
       "      <td>10.05</td>\n",
       "      <td>0.09</td>\n",
       "      <td>0</td>\n",
       "    </tr>\n",
       "  </tbody>\n",
       "</table>\n",
       "</div>"
      ],
      "text/plain": [
       "        Date        XLF       XLK        XLI    HY        XLY        XLU  \\\n",
       "0  12/1/1998  19.039398  32.62500  24.562500  6.44  26.125000  30.234375   \n",
       "1   1/1/1999  19.369415  37.81250  24.296875  6.52  27.468750  29.484375   \n",
       "2   2/1/1999  19.674046  34.06250  24.515625  6.46  27.296875  28.671875   \n",
       "3   3/1/1999  20.257921  36.59375  24.937500  6.57  28.593750  26.687500   \n",
       "4   4/1/1999  21.679529  36.81250  28.687500  6.80  29.343750  29.265625   \n",
       "\n",
       "         XLP        SPY  VBMFX  Target_FR12Mts  label  \n",
       "0  27.156250  123.31250  10.27            0.19      0  \n",
       "1  26.796875  127.65625  10.30            0.09      0  \n",
       "2  26.515625  123.56250  10.07            0.11      0  \n",
       "3  26.437500  128.37500  10.06            0.17      0  \n",
       "4  25.515625  133.25000  10.05            0.09      0  "
      ]
     },
     "execution_count": 13,
     "metadata": {},
     "output_type": "execute_result"
    }
   ],
   "source": [
    "features['label'] = np.where(features['Target_FR12Mts'] < 0, 1, 0)\n",
    "features.head()"
   ]
  },
  {
   "cell_type": "code",
   "execution_count": 14,
   "metadata": {},
   "outputs": [
    {
     "name": "stdout",
     "output_type": "stream",
     "text": [
      "The shape of our features is: (241, 12)\n"
     ]
    }
   ],
   "source": [
    "print('The shape of our features is:', features.shape)"
   ]
  },
  {
   "cell_type": "code",
   "execution_count": 16,
   "metadata": {},
   "outputs": [],
   "source": [
    "feature_columns = ['XLF', 'XLK', 'XLI', 'HY', 'XLY', 'XLU', 'XLP', 'SPY', 'VBMFX']\n",
    "X = features[feature_columns]"
   ]
  },
  {
   "cell_type": "code",
   "execution_count": 18,
   "metadata": {},
   "outputs": [],
   "source": [
    "y = features.label"
   ]
  },
  {
   "cell_type": "code",
   "execution_count": 19,
   "metadata": {},
   "outputs": [],
   "source": [
    "from sklearn.model_selection import train_test_split\n",
    "\n",
    "X_train, X_test, y_train, y_test = train_test_split(X, y, test_size = 0.30, random_state=42)"
   ]
  },
  {
   "cell_type": "code",
   "execution_count": 20,
   "metadata": {},
   "outputs": [],
   "source": [
    "# Feature Scaling\n",
    "from sklearn.preprocessing import StandardScaler\n",
    "\n",
    "sc = StandardScaler()\n",
    "X_train = sc.fit_transform(X_train)\n",
    "X_test = sc.transform(X_test)"
   ]
  },
  {
   "cell_type": "code",
   "execution_count": 21,
   "metadata": {},
   "outputs": [
    {
     "name": "stdout",
     "output_type": "stream",
     "text": [
      "Training Features Shape: (168, 9)\n",
      "Training Labels Shape: (168,)\n",
      "Testing Features Shape: (73, 9)\n",
      "Testing Labels Shape: (73,)\n"
     ]
    }
   ],
   "source": [
    "print('Training Features Shape:', X_train.shape)\n",
    "print('Training Labels Shape:', y_train.shape )\n",
    "print('Testing Features Shape:',X_test.shape)\n",
    "print('Testing Labels Shape:', y_test.shape)"
   ]
  },
  {
   "cell_type": "code",
   "execution_count": 23,
   "metadata": {},
   "outputs": [
    {
     "data": {
      "text/plain": [
       "RandomForestClassifier(bootstrap=True, class_weight=None, criterion='gini',\n",
       "                       max_depth=None, max_features='auto', max_leaf_nodes=None,\n",
       "                       min_impurity_decrease=0.0, min_impurity_split=None,\n",
       "                       min_samples_leaf=1, min_samples_split=2,\n",
       "                       min_weight_fraction_leaf=0.0, n_estimators=20,\n",
       "                       n_jobs=None, oob_score=False, random_state=42, verbose=0,\n",
       "                       warm_start=False)"
      ]
     },
     "execution_count": 23,
     "metadata": {},
     "output_type": "execute_result"
    }
   ],
   "source": [
    "#from sklearn.linear_model import RandomForestRegression\n",
    "\n",
    "#classifier = LogisticRegression(random_state = 0)\n",
    "#classifier.fit(X_train, y_train)\n",
    "\n",
    "# Import the model we are using\n",
    "from sklearn.ensemble import RandomForestClassifier\n",
    "\n",
    "# Instantiate model \n",
    "rf = RandomForestClassifier(n_estimators= 20, random_state=42)\n",
    "\n",
    "# Train the model on training data\n",
    "rf.fit(X_train, y_train)\n"
   ]
  },
  {
   "cell_type": "code",
   "execution_count": 24,
   "metadata": {},
   "outputs": [
    {
     "data": {
      "text/plain": [
       "0.8493150684931506"
      ]
     },
     "execution_count": 24,
     "metadata": {},
     "output_type": "execute_result"
    }
   ],
   "source": [
    "rf.score(X_test, y_test)"
   ]
  },
  {
   "cell_type": "code",
   "execution_count": 25,
   "metadata": {},
   "outputs": [
    {
     "name": "stdout",
     "output_type": "stream",
     "text": [
      "Training Score: 0.9940476190476191\n"
     ]
    }
   ],
   "source": [
    "training_score = rf.score(X_train, y_train)\n",
    "print(f\"Training Score: {training_score}\")"
   ]
  },
  {
   "cell_type": "code",
   "execution_count": 31,
   "metadata": {},
   "outputs": [
    {
     "data": {
      "text/plain": [
       "array([1, 0, 0, 0, 0, 0, 0, 0, 1, 1, 0, 0, 0, 0, 0, 0, 0, 1, 0, 0, 0, 1,\n",
       "       1, 1, 0, 0, 1, 0, 0, 0, 1, 0, 1, 0, 1, 0, 1, 0, 0, 0, 0, 0, 1, 1,\n",
       "       0, 0, 0, 1, 0, 1, 0, 0, 0, 0, 0, 0, 0, 0, 0, 0, 0, 1, 0, 0, 0, 0,\n",
       "       0, 0, 0, 1, 0, 0, 0])"
      ]
     },
     "execution_count": 31,
     "metadata": {},
     "output_type": "execute_result"
    }
   ],
   "source": [
    "y_pred = rf.predict(X_test)\n",
    "y_pred"
   ]
  },
  {
   "cell_type": "code",
   "execution_count": 32,
   "metadata": {},
   "outputs": [
    {
     "name": "stdout",
     "output_type": "stream",
     "text": [
      "Confusion Matrix : \n",
      " [[47  3]\n",
      " [ 8 15]]\n"
     ]
    }
   ],
   "source": [
    "from sklearn.metrics import confusion_matrix \n",
    "cm = confusion_matrix(y_test, y_pred) \n",
    "\n",
    "print (\"Confusion Matrix : \\n\", cm)"
   ]
  },
  {
   "cell_type": "code",
   "execution_count": 33,
   "metadata": {},
   "outputs": [
    {
     "name": "stdout",
     "output_type": "stream",
     "text": [
      "Testing Score: 0.8493150684931506\n"
     ]
    }
   ],
   "source": [
    "testing_score = rf.score(X_test, y_test)\n",
    "print(f\"Testing Score: {testing_score}\")"
   ]
  },
  {
   "cell_type": "code",
   "execution_count": 34,
   "metadata": {},
   "outputs": [
    {
     "data": {
      "text/plain": [
       "Text(0.5, 257.44, 'Predicted label')"
      ]
     },
     "execution_count": 34,
     "metadata": {},
     "output_type": "execute_result"
    },
    {
     "data": {
      "image/png": "[encoded data removed]",
      "text/plain": [
       "<Figure size 432x288 with 2 Axes>"
      ]
     },
     "metadata": {
      "needs_background": "light"
     },
     "output_type": "display_data"
    }
   ],
   "source": [
    "class_names=[0,1] # name  of classes\n",
    "fig, ax = plt.subplots()\n",
    "tick_marks = np.arange(len(class_names))\n",
    "plt.xticks(tick_marks, class_names)\n",
    "plt.yticks(tick_marks, class_names)\n",
    "# create heatmap\n",
    "sns.heatmap(pd.DataFrame(cm), annot=True, cmap=\"YlGnBu\" ,fmt='g')\n",
    "ax.xaxis.set_label_position(\"top\")\n",
    "plt.tight_layout()\n",
    "plt.title('Confusion matrix', y=1.1)\n",
    "plt.ylabel('Actual label')\n",
    "plt.xlabel('Predicted label')"
   ]
  },
  {
   "cell_type": "code",
   "execution_count": 35,
   "metadata": {},
   "outputs": [
    {
     "name": "stdout",
     "output_type": "stream",
     "text": [
      "Accuracy: 0.8493150684931506\n",
      "Precision: 0.8333333333333334\n",
      "Recall: 0.6521739130434783\n"
     ]
    }
   ],
   "source": [
    "from sklearn import metrics\n",
    "print(\"Accuracy:\", metrics.accuracy_score(y_test, y_pred))\n",
    "print(\"Precision:\", metrics.precision_score(y_test, y_pred))\n",
    "print(\"Recall:\", metrics.recall_score(y_test, y_pred))"
   ]
  },
  {
   "cell_type": "code",
   "execution_count": null,
   "metadata": {},
   "outputs": [],
   "source": [
    "# Precision: Precision is about being precise, i.e., how accurate your model is.\n",
    "# In other words, you can say, when a model makes a prediction, how often it is correct.\n",
    "# In your prediction case, when Logistic Regression model predicted how index is going\n",
    "# to be low and high, that is 84% of the time.\n",
    "\n",
    "# Recall: If there are stock which has index low or high in the test set and your Logistic Regression\n",
    "# model can identify it 65% of the time.\n",
    "\n",
    "# ROC Curve\n",
    "# Receiver Operating Characteristic(ROC) curve is a plot of the true positive rate against the\n",
    "# false positive rate. It shows the tradeoff between sensitivity and specificity."
   ]
  },
  {
   "cell_type": "code",
   "execution_count": 37,
   "metadata": {},
   "outputs": [
    {
     "data": {
      "image/png": "[encoded data removed]",
      "text/plain": [
       "<Figure size 432x288 with 1 Axes>"
      ]
     },
     "metadata": {
      "needs_background": "light"
     },
     "output_type": "display_data"
    }
   ],
   "source": [
    "y_pred_proba = rf.predict_proba(X_test)[::,1]\n",
    "fpr, tpr, _ = metrics.roc_curve(y_test,  y_pred_proba)\n",
    "auc = metrics.roc_auc_score(y_test, y_pred_proba)\n",
    "plt.plot(fpr, tpr, label=\"data 1, auc=\"+str(auc))\n",
    "plt.legend(loc=4)\n",
    "plt.show()"
   ]
  },
  {
   "cell_type": "code",
   "execution_count": null,
   "metadata": {},
   "outputs": [],
   "source": [
    "# AUC score for the case is 0.92. AUC score 1 represents perfect classifier,\n",
    "# and 0.5 represents a worthless classifier."
   ]
  },
  {
   "cell_type": "code",
   "execution_count": 48,
   "metadata": {},
   "outputs": [
    {
     "data": {
      "text/plain": [
       "RandomForestClassifier(bootstrap=True, class_weight=None, criterion='gini',\n",
       "                       max_depth=None, max_features='auto', max_leaf_nodes=None,\n",
       "                       min_impurity_decrease=0.0, min_impurity_split=None,\n",
       "                       min_samples_leaf=1, min_samples_split=2,\n",
       "                       min_weight_fraction_leaf=0.0, n_estimators=20,\n",
       "                       n_jobs=None, oob_score=False, random_state=6, verbose=0,\n",
       "                       warm_start=False)"
      ]
     },
     "execution_count": 48,
     "metadata": {},
     "output_type": "execute_result"
    }
   ],
   "source": [
    "# Instantiate model \n",
    "rf1 = RandomForestClassifier(n_estimators =20, random_state=6)\n",
    "\n",
    "# Train the model on training data\n",
    "rf1.fit(X_train, y_train)"
   ]
  },
  {
   "cell_type": "code",
   "execution_count": 49,
   "metadata": {},
   "outputs": [
    {
     "name": "stdout",
     "output_type": "stream",
     "text": [
      "Training Score: 1.0\n"
     ]
    }
   ],
   "source": [
    "rf1.score(X_test, y_test)\n",
    "\n",
    "training_score = rf1.score(X_train, y_train)\n",
    "print(f\"Training Score: {training_score}\")\n",
    "\n",
    "\n",
    "\n"
   ]
  },
  {
   "cell_type": "code",
   "execution_count": 50,
   "metadata": {},
   "outputs": [],
   "source": [
    "y_pred1 = rf1.predict(X_test)\n"
   ]
  },
  {
   "cell_type": "code",
   "execution_count": 51,
   "metadata": {},
   "outputs": [
    {
     "name": "stdout",
     "output_type": "stream",
     "text": [
      "Confusion Matrix : \n",
      " [[47  3]\n",
      " [ 8 15]]\n"
     ]
    }
   ],
   "source": [
    "from sklearn.metrics import confusion_matrix \n",
    "cm1 = confusion_matrix(y_test, y_pred) \n",
    "\n",
    "print (\"Confusion Matrix : \\n\", cm1)"
   ]
  },
  {
   "cell_type": "code",
   "execution_count": null,
   "metadata": {},
   "outputs": [],
   "source": []
  },
  {
   "cell_type": "code",
   "execution_count": null,
   "metadata": {},
   "outputs": [],
   "source": []
  }
 ],
 "metadata": {
  "kernelspec": {
   "display_name": "Python 3",
   "language": "python",
   "name": "python3"
  },
  "language_info": {
   "codemirror_mode": {
    "name": "ipython",
    "version": 3
   },
   "file_extension": ".py",
   "mimetype": "text/x-python",
   "name": "python",
   "nbconvert_exporter": "python",
   "pygments_lexer": "ipython3",
   "version": "3.7.3"
  }
 },
 "nbformat": 4,
 "nbformat_minor": 2
}
