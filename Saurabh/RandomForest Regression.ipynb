{
 "cells": [
  {
   "cell_type": "code",
   "execution_count": 1,
   "metadata": {},
   "outputs": [
    {
     "data": {
      "text/html": [
       "<div>\n",
       "<style scoped>\n",
       "    .dataframe tbody tr th:only-of-type {\n",
       "        vertical-align: middle;\n",
       "    }\n",
       "\n",
       "    .dataframe tbody tr th {\n",
       "        vertical-align: top;\n",
       "    }\n",
       "\n",
       "    .dataframe thead th {\n",
       "        text-align: right;\n",
       "    }\n",
       "</style>\n",
       "<table border=\"1\" class=\"dataframe\">\n",
       "  <thead>\n",
       "    <tr style=\"text-align: right;\">\n",
       "      <th></th>\n",
       "      <th>Date</th>\n",
       "      <th>XLF</th>\n",
       "      <th>XLK</th>\n",
       "      <th>XLI</th>\n",
       "      <th>HY</th>\n",
       "      <th>XLY</th>\n",
       "      <th>XLU</th>\n",
       "      <th>XLP</th>\n",
       "      <th>SPY</th>\n",
       "      <th>VBMFX</th>\n",
       "      <th>Target_FR12Mts</th>\n",
       "    </tr>\n",
       "  </thead>\n",
       "  <tbody>\n",
       "    <tr>\n",
       "      <th>0</th>\n",
       "      <td>12/1/1998</td>\n",
       "      <td>19.039398</td>\n",
       "      <td>32.62500</td>\n",
       "      <td>24.562500</td>\n",
       "      <td>6.44</td>\n",
       "      <td>26.125000</td>\n",
       "      <td>30.234375</td>\n",
       "      <td>27.156250</td>\n",
       "      <td>123.31250</td>\n",
       "      <td>10.27</td>\n",
       "      <td>0.19</td>\n",
       "    </tr>\n",
       "    <tr>\n",
       "      <th>1</th>\n",
       "      <td>1/1/1999</td>\n",
       "      <td>19.369415</td>\n",
       "      <td>37.81250</td>\n",
       "      <td>24.296875</td>\n",
       "      <td>6.52</td>\n",
       "      <td>27.468750</td>\n",
       "      <td>29.484375</td>\n",
       "      <td>26.796875</td>\n",
       "      <td>127.65625</td>\n",
       "      <td>10.30</td>\n",
       "      <td>0.09</td>\n",
       "    </tr>\n",
       "    <tr>\n",
       "      <th>2</th>\n",
       "      <td>2/1/1999</td>\n",
       "      <td>19.674046</td>\n",
       "      <td>34.06250</td>\n",
       "      <td>24.515625</td>\n",
       "      <td>6.46</td>\n",
       "      <td>27.296875</td>\n",
       "      <td>28.671875</td>\n",
       "      <td>26.515625</td>\n",
       "      <td>123.56250</td>\n",
       "      <td>10.07</td>\n",
       "      <td>0.11</td>\n",
       "    </tr>\n",
       "    <tr>\n",
       "      <th>3</th>\n",
       "      <td>3/1/1999</td>\n",
       "      <td>20.257921</td>\n",
       "      <td>36.59375</td>\n",
       "      <td>24.937500</td>\n",
       "      <td>6.57</td>\n",
       "      <td>28.593750</td>\n",
       "      <td>26.687500</td>\n",
       "      <td>26.437500</td>\n",
       "      <td>128.37500</td>\n",
       "      <td>10.06</td>\n",
       "      <td>0.17</td>\n",
       "    </tr>\n",
       "    <tr>\n",
       "      <th>4</th>\n",
       "      <td>4/1/1999</td>\n",
       "      <td>21.679529</td>\n",
       "      <td>36.81250</td>\n",
       "      <td>28.687500</td>\n",
       "      <td>6.80</td>\n",
       "      <td>29.343750</td>\n",
       "      <td>29.265625</td>\n",
       "      <td>25.515625</td>\n",
       "      <td>133.25000</td>\n",
       "      <td>10.05</td>\n",
       "      <td>0.09</td>\n",
       "    </tr>\n",
       "  </tbody>\n",
       "</table>\n",
       "</div>"
      ],
      "text/plain": [
       "        Date        XLF       XLK        XLI    HY        XLY        XLU  \\\n",
       "0  12/1/1998  19.039398  32.62500  24.562500  6.44  26.125000  30.234375   \n",
       "1   1/1/1999  19.369415  37.81250  24.296875  6.52  27.468750  29.484375   \n",
       "2   2/1/1999  19.674046  34.06250  24.515625  6.46  27.296875  28.671875   \n",
       "3   3/1/1999  20.257921  36.59375  24.937500  6.57  28.593750  26.687500   \n",
       "4   4/1/1999  21.679529  36.81250  28.687500  6.80  29.343750  29.265625   \n",
       "\n",
       "         XLP        SPY  VBMFX  Target_FR12Mts  \n",
       "0  27.156250  123.31250  10.27            0.19  \n",
       "1  26.796875  127.65625  10.30            0.09  \n",
       "2  26.515625  123.56250  10.07            0.11  \n",
       "3  26.437500  128.37500  10.06            0.17  \n",
       "4  25.515625  133.25000  10.05            0.09  "
      ]
     },
     "execution_count": 1,
     "metadata": {},
     "output_type": "execute_result"
    }
   ],
   "source": [
    "# Pandas is used for data manipulation\n",
    "import pandas as pd\n",
    "\n",
    "# Read in data as pandas dataframe and display first 5 rows\n",
    "features = pd.read_csv('../Aalok/DataForClustering.csv')\n",
    "features.head(5)"
   ]
  },
  {
   "cell_type": "code",
   "execution_count": 2,
   "metadata": {},
   "outputs": [
    {
     "name": "stdout",
     "output_type": "stream",
     "text": [
      "The shape of our features is: (241, 11)\n"
     ]
    }
   ],
   "source": [
    "print('The shape of our features is:', features.shape)"
   ]
  },
  {
   "cell_type": "code",
   "execution_count": 3,
   "metadata": {},
   "outputs": [],
   "source": [
    "feature_columns = ['XLF', 'XLK', 'XLI', 'HY', 'XLY', 'XLU', 'XLP', 'SPY', 'VBMFX']\n",
    "X = features[feature_columns]"
   ]
  },
  {
   "cell_type": "code",
   "execution_count": 4,
   "metadata": {},
   "outputs": [],
   "source": [
    "y = features.Target_FR12Mts"
   ]
  },
  {
   "cell_type": "code",
   "execution_count": 5,
   "metadata": {},
   "outputs": [
    {
     "name": "stdout",
     "output_type": "stream",
     "text": [
      "(241, 9) (241,)\n"
     ]
    }
   ],
   "source": [
    "print(X.shape, y.shape)"
   ]
  },
  {
   "cell_type": "code",
   "execution_count": 6,
   "metadata": {},
   "outputs": [],
   "source": [
    "from sklearn.model_selection import train_test_split\n",
    "\n",
    "X_train, X_test, y_train, y_test = train_test_split(X, y, test_size = 0.30, random_state=42)\n",
    "\n",
    "# train_features =X_train, test_features = X_test, train_labels =y_train, test_labels =y_test"
   ]
  },
  {
   "cell_type": "code",
   "execution_count": 7,
   "metadata": {},
   "outputs": [],
   "source": [
    "# Feature Scaling\n",
    "from sklearn.preprocessing import StandardScaler\n",
    "\n",
    "sc = StandardScaler()\n",
    "X_train = sc.fit_transform(X_train)\n",
    "X_test = sc.transform(X_test)"
   ]
  },
  {
   "cell_type": "code",
   "execution_count": 8,
   "metadata": {},
   "outputs": [
    {
     "name": "stdout",
     "output_type": "stream",
     "text": [
      "Training Features Shape: (168, 9)\n",
      "Training Labels Shape: (168,)\n",
      "Testing Features Shape: (73, 9)\n",
      "Testing Labels Shape: (73,)\n"
     ]
    }
   ],
   "source": [
    "print('Training Features Shape:', X_train.shape)\n",
    "print('Training Labels Shape:', y_train.shape )\n",
    "print('Testing Features Shape:',X_test.shape)\n",
    "print('Testing Labels Shape:', y_test.shape)"
   ]
  },
  {
   "cell_type": "code",
   "execution_count": 9,
   "metadata": {},
   "outputs": [
    {
     "data": {
      "text/plain": [
       "0.7913928217942106"
      ]
     },
     "execution_count": 9,
     "metadata": {},
     "output_type": "execute_result"
    }
   ],
   "source": [
    "# Import the model we are using\n",
    "from sklearn.ensemble import RandomForestRegressor\n",
    "\n",
    "# Instantiate model \n",
    "rf = RandomForestRegressor(n_estimators= 20, random_state=42)\n",
    "\n",
    "# Train the model on training data\n",
    "rf.fit(X_train, y_train)\n",
    "rf.score(X_test, y_test)"
   ]
  },
  {
   "cell_type": "code",
   "execution_count": 10,
   "metadata": {},
   "outputs": [
    {
     "data": {
      "text/plain": [
       "array([-0.23  ,  0.059 ,  0.136 ,  0.1045,  0.0685,  0.1325,  0.052 ,\n",
       "        0.128 ,  0.0085, -0.287 ,  0.312 ,  0.105 ,  0.09  ,  0.11  ,\n",
       "        0.1135,  0.058 ,  0.036 , -0.0735,  0.06  ,  0.154 , -0.016 ,\n",
       "       -0.129 , -0.324 , -0.0805,  0.096 ,  0.1835, -0.048 ,  0.074 ,\n",
       "        0.0575,  0.1395, -0.2965,  0.1205, -0.096 ,  0.049 , -0.088 ,\n",
       "        0.196 , -0.031 ,  0.101 ,  0.1535,  0.1335,  0.0765,  0.077 ,\n",
       "       -0.2745, -0.0865,  0.1365,  0.082 ,  0.1   , -0.1095,  0.133 ,\n",
       "       -0.17  ,  0.128 ,  0.1565,  0.118 ,  0.0985,  0.061 ,  0.116 ,\n",
       "        0.1595,  0.182 ,  0.101 ,  0.0785,  0.1355, -0.07  ,  0.122 ,\n",
       "        0.0215,  0.0955,  0.1175,  0.0855,  0.1155,  0.0085, -0.1465,\n",
       "       -0.265 ,  0.0915,  0.0935])"
      ]
     },
     "execution_count": 10,
     "metadata": {},
     "output_type": "execute_result"
    }
   ],
   "source": [
    "#Regressor = RandomForestRegressor(max_depth=2, random_state=42)\n",
    "#Regressor.fit(X_train, y_train)\n",
    "# Predicting the Test set results\n",
    "y_pred = rf.predict(X_test)\n",
    "y_pred"
   ]
  },
  {
   "cell_type": "code",
   "execution_count": 34,
   "metadata": {},
   "outputs": [
    {
     "name": "stdout",
     "output_type": "stream",
     "text": [
      "Mean Absolute Error: 0.06067808219178082\n",
      "Mean Squared Error: 0.0057981130136986305\n",
      "Root Mean Squared Error: 0.07614534137883046\n",
      "Root Sqaured: 0.7913928217942106\n"
     ]
    }
   ],
   "source": [
    "from sklearn import metrics\n",
    "# Use numpy to convert to arrays\n",
    "import numpy as np\n",
    "\n",
    "print('Mean Absolute Error:', metrics.mean_absolute_error(y_test, y_pred))\n",
    "print('Mean Squared Error:', metrics.mean_squared_error(y_test, y_pred))\n",
    "print('Root Mean Squared Error:', np.sqrt(metrics.mean_squared_error(y_test, y_pred)))\n",
    "print('Root Sqaured:', metrics.r2_score(y_test, y_pred))\n"
   ]
  },
  {
   "cell_type": "code",
   "execution_count": 13,
   "metadata": {},
   "outputs": [
    {
     "name": "stdout",
     "output_type": "stream",
     "text": [
      "Mean Absolute Error: 0.06 degrees.\n"
     ]
    }
   ],
   "source": [
    "# Use the forest's predict method on the test data\n",
    "predictions = rf.predict(X_test)\n",
    "\n",
    "# Calculate the absolute errors\n",
    "errors = abs(predictions - y_test)\n",
    "\n",
    "# Print out the mean absolute error (mae)\n",
    "print('Mean Absolute Error:', round(np.mean(errors), 2), 'degrees.')\n"
   ]
  },
  {
   "cell_type": "code",
   "execution_count": 14,
   "metadata": {},
   "outputs": [
    {
     "data": {
      "text/plain": [
       "array([-0.23  ,  0.059 ,  0.136 ,  0.1045,  0.0685,  0.1325,  0.052 ,\n",
       "        0.128 ,  0.0085, -0.287 ,  0.312 ,  0.105 ,  0.09  ,  0.11  ,\n",
       "        0.1135,  0.058 ,  0.036 , -0.0735,  0.06  ,  0.154 , -0.016 ,\n",
       "       -0.129 , -0.324 , -0.0805,  0.096 ,  0.1835, -0.048 ,  0.074 ,\n",
       "        0.0575,  0.1395, -0.2965,  0.1205, -0.096 ,  0.049 , -0.088 ,\n",
       "        0.196 , -0.031 ,  0.101 ,  0.1535,  0.1335,  0.0765,  0.077 ,\n",
       "       -0.2745, -0.0865,  0.1365,  0.082 ,  0.1   , -0.1095,  0.133 ,\n",
       "       -0.17  ,  0.128 ,  0.1565,  0.118 ,  0.0985,  0.061 ,  0.116 ,\n",
       "        0.1595,  0.182 ,  0.101 ,  0.0785,  0.1355, -0.07  ,  0.122 ,\n",
       "        0.0215,  0.0955,  0.1175,  0.0855,  0.1155,  0.0085, -0.1465,\n",
       "       -0.265 ,  0.0915,  0.0935])"
      ]
     },
     "execution_count": 14,
     "metadata": {},
     "output_type": "execute_result"
    }
   ],
   "source": [
    "predictions"
   ]
  },
  {
   "cell_type": "code",
   "execution_count": 15,
   "metadata": {},
   "outputs": [],
   "source": [
    "rf_new = RandomForestRegressor(n_estimators = 200, criterion = 'mse', max_depth = None, \n",
    "                               min_samples_split = 2, min_samples_leaf = 1)"
   ]
  },
  {
   "cell_type": "code",
   "execution_count": 20,
   "metadata": {},
   "outputs": [
    {
     "name": "stdout",
     "output_type": "stream",
     "text": [
      "The depth of this tree is: 13\n"
     ]
    }
   ],
   "source": [
    "from sklearn.tree import export_graphviz\n",
    "import pydot\n",
    "# Pull out one tree from the forest\n",
    "tree = rf.estimators_[5]\n",
    "print('The depth of this tree is:', tree.tree_.max_depth)"
   ]
  },
  {
   "cell_type": "code",
   "execution_count": 21,
   "metadata": {},
   "outputs": [
    {
     "name": "stdout",
     "output_type": "stream",
     "text": [
      "Variable: XLI                  Importance: 0.36\n",
      "Variable: XLP                  Importance: 0.13\n",
      "Variable: XLF                  Importance: 0.09\n",
      "Variable: XLU                  Importance: 0.09\n",
      "Variable: Date                 Importance: 0.08\n",
      "Variable: SPY                  Importance: 0.08\n",
      "Variable: XLK                  Importance: 0.06\n",
      "Variable: HY                   Importance: 0.06\n",
      "Variable: XLY                  Importance: 0.06\n"
     ]
    }
   ],
   "source": [
    "# Get numerical feature importances\n",
    "importances = list(rf.feature_importances_)\n",
    "\n",
    "# List of tuples with variable and importance\n",
    "feature_importances = [(feature, round(importance, 2)) for feature, importance in zip(features, importances)]\n",
    "\n",
    "# Sort the feature importances by most important first\n",
    "feature_importances = sorted(feature_importances, key = lambda x: x[1], reverse = True)\n",
    "\n",
    "# Print out the feature and importances \n",
    "[print('Variable: {:20} Importance: {}'.format(*pair)) for pair in feature_importances];"
   ]
  },
  {
   "cell_type": "code",
   "execution_count": 22,
   "metadata": {},
   "outputs": [],
   "source": [
    "# Import matplotlib for plotting and use magic command for Jupyter Notebooks\n",
    "import matplotlib.pyplot as plt\n",
    "\n",
    "%matplotlib inline\n",
    "\n",
    "# Set the style\n",
    "plt.style.use('fivethirtyeight')"
   ]
  },
  {
   "cell_type": "code",
   "execution_count": 24,
   "metadata": {},
   "outputs": [
    {
     "data": {
      "image/png": "[encoded data removed]",
      "text/plain": [
       "<Figure size 432x288 with 1 Axes>"
      ]
     },
     "metadata": {
      "needs_background": "light"
     },
     "output_type": "display_data"
    }
   ],
   "source": [
    "# list of x locations for plotting\n",
    "x_values = list(range(len(importances)))\n",
    "\n",
    "# Make a bar chart\n",
    "plt.bar(x_values, importances, orientation = 'vertical')\n",
    "\n",
    "# Tick labels for x axis\n",
    "plt.xticks(x_values, features, rotation='vertical')\n",
    "\n",
    "# Axis labels and title\n",
    "plt.ylabel('Importance'); plt.xlabel('Variable'); plt.title('Variable Importances'); "
   ]
  },
  {
   "cell_type": "code",
   "execution_count": 30,
   "metadata": {},
   "outputs": [],
   "source": [
    "# Export the image to a dot file\n",
    "export_graphviz(tree, out_file = 'tree.dot', rounded = True, precision = 1)\n",
    "\n",
    "# Use dot file to create a graph\n",
    "(graph, ) = pydot.graph_from_dot_file('tree.dot')\n",
    "\n",
    "# Write graph to a png file\n",
    "graph.write_png('tree.png'); "
   ]
  },
  {
   "cell_type": "code",
   "execution_count": 32,
   "metadata": {},
   "outputs": [],
   "source": [
    "# Limit depth of tree to 2 levels\n",
    "rf_small = RandomForestRegressor(n_estimators=10, max_depth = 3, random_state=42)\n",
    "rf_small.fit(X_train, y_train)\n",
    "# train_features =X_train, test_features = X_test, train_labels =y_train, test_labels =y_test\n",
    "# Extract the small tree\n",
    "tree_small = rf_small.estimators_[5]\n",
    "\n",
    "# Save the tree as a png image\n",
    "export_graphviz(tree_small, out_file = 'small_tree.dot', rounded = True, precision = 1)\n",
    "\n",
    "(graph, ) = pydot.graph_from_dot_file('small_tree.dot')\n",
    "\n",
    "graph.write_png('small_tree.png');\n"
   ]
  },
  {
   "cell_type": "code",
   "execution_count": null,
   "metadata": {},
   "outputs": [],
   "source": []
  }
 ],
 "metadata": {
  "kernelspec": {
   "display_name": "Python 3",
   "language": "python",
   "name": "python3"
  },
  "language_info": {
   "codemirror_mode": {
    "name": "ipython",
    "version": 3
   },
   "file_extension": ".py",
   "mimetype": "text/x-python",
   "name": "python",
   "nbconvert_exporter": "python",
   "pygments_lexer": "ipython3",
   "version": "3.6.9"
  }
 },
 "nbformat": 4,
 "nbformat_minor": 2
}
